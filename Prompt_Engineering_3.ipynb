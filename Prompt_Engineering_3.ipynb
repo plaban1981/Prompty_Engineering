{
  "nbformat": 4,
  "nbformat_minor": 0,
  "metadata": {
    "colab": {
      "provenance": [],
      "authorship_tag": "ABX9TyMI/QequyIbyIkNahjvszvN",
      "include_colab_link": true
    },
    "kernelspec": {
      "name": "python3",
      "display_name": "Python 3"
    },
    "language_info": {
      "name": "python"
    }
  },
  "cells": [
    {
      "cell_type": "markdown",
      "metadata": {
        "id": "view-in-github",
        "colab_type": "text"
      },
      "source": [
        "<a href=\"https://colab.research.google.com/github/plaban1981/Prompty_Engineering/blob/main/Prompt_Engineering_3.ipynb\" target=\"_parent\"><img src=\"https://colab.research.google.com/assets/colab-badge.svg\" alt=\"Open In Colab\"/></a>"
      ]
    },
    {
      "cell_type": "code",
      "execution_count": 1,
      "metadata": {
        "colab": {
          "base_uri": "https://localhost:8080/"
        },
        "id": "kk4pWAWl0AG4",
        "outputId": "5010e05b-f6d2-4f07-b77b-5dc7da207347"
      },
      "outputs": [
        {
          "output_type": "stream",
          "name": "stdout",
          "text": [
            "\u001b[2K     \u001b[90m━━━━━━━━━━━━━━━━━━━━━━━━━━━━━━━━━━━━━━━━\u001b[0m \u001b[32m72.0/72.0 kB\u001b[0m \u001b[31m2.6 MB/s\u001b[0m eta \u001b[36m0:00:00\u001b[0m\n",
            "\u001b[2K     \u001b[90m━━━━━━━━━━━━━━━━━━━━━━━━━━━━━━━━━━━━━━━━\u001b[0m \u001b[32m1.0/1.0 MB\u001b[0m \u001b[31m20.2 MB/s\u001b[0m eta \u001b[36m0:00:00\u001b[0m\n",
            "\u001b[2K     \u001b[90m━━━━━━━━━━━━━━━━━━━━━━━━━━━━━━━━━━━━━━\u001b[0m \u001b[32m114.5/114.5 kB\u001b[0m \u001b[31m11.3 MB/s\u001b[0m eta \u001b[36m0:00:00\u001b[0m\n",
            "\u001b[2K     \u001b[90m━━━━━━━━━━━━━━━━━━━━━━━━━━━━━━━━━━━━━━\u001b[0m \u001b[32m268.8/268.8 kB\u001b[0m \u001b[31m25.0 MB/s\u001b[0m eta \u001b[36m0:00:00\u001b[0m\n",
            "\u001b[2K     \u001b[90m━━━━━━━━━━━━━━━━━━━━━━━━━━━━━━━━━━━━━━\u001b[0m \u001b[32m149.6/149.6 kB\u001b[0m \u001b[31m14.5 MB/s\u001b[0m eta \u001b[36m0:00:00\u001b[0m\n",
            "\u001b[?25h"
          ]
        }
      ],
      "source": [
        "!pip install -qU openai"
      ]
    },
    {
      "cell_type": "code",
      "source": [
        "import os\n",
        "import openai\n",
        "from getpass import getpass\n",
        "os.environ[\"OPENAI_API_KEY\"] = getpass()\n",
        "#\n",
        "openai.api_key = os.getenv('OPENAI_API_KEY')"
      ],
      "metadata": {
        "colab": {
          "base_uri": "https://localhost:8080/"
        },
        "id": "2GInPBwh73o4",
        "outputId": "3fc64b21-14f8-4a36-f381-7fac553453b1"
      },
      "execution_count": 2,
      "outputs": [
        {
          "name": "stdout",
          "output_type": "stream",
          "text": [
            "··········\n"
          ]
        }
      ]
    },
    {
      "cell_type": "markdown",
      "source": [
        "## Helper Function"
      ],
      "metadata": {
        "id": "f-g29W8A-Kyd"
      }
    },
    {
      "cell_type": "code",
      "source": [
        "def get_completion(prompt, model=\"gpt-3.5-turbo\"): # Andrew mentioned that the prompt/ completion paradigm is preferable for this class\n",
        "    messages = [{\"role\": \"user\", \"content\": prompt}]\n",
        "    response = openai.ChatCompletion.create(\n",
        "        model=model,\n",
        "        messages=messages,\n",
        "        temperature=0, # this is the degree of randomness of the model's output\n",
        "    )\n",
        "    return response.choices[0].message[\"content\"]\n"
      ],
      "metadata": {
        "id": "H5TV2UBi9XRe"
      },
      "execution_count": 3,
      "outputs": []
    },
    {
      "cell_type": "markdown",
      "source": [
        "##Summarizing"
      ],
      "metadata": {
        "id": "IOni0zLW-UIB"
      }
    },
    {
      "cell_type": "code",
      "source": [
        "prod_review = \"\"\"\n",
        "Got this panda plush toy for my daughter's birthday, \\\n",
        "who loves it and takes it everywhere. It's soft and \\ \n",
        "super cute, and its face has a friendly look. It's \\ \n",
        "a bit small for what I paid though. I think there \\ \n",
        "might be other options that are bigger for the \\ \n",
        "same price. It arrived a day earlier than expected, \\ \n",
        "so I got to play with it myself before I gave it \\ \n",
        "to her.\n",
        "\"\"\""
      ],
      "metadata": {
        "id": "rPxplNIm-NgI"
      },
      "execution_count": 8,
      "outputs": []
    },
    {
      "cell_type": "markdown",
      "source": [
        "## Summarize with a word/sentence/character limit"
      ],
      "metadata": {
        "id": "NA18fChlPRQx"
      }
    },
    {
      "cell_type": "code",
      "source": [
        "prompt = f\"\"\"\n",
        "Your task is to generate a short summary of a product \\\n",
        "review from an ecommerce site. \n",
        "\n",
        "Summarize the review below, delimited by triple \n",
        "backticks, in at most 30 words. \n",
        "\n",
        "Review: ```{prod_review}```\n",
        "\"\"\"\n",
        "\n",
        "response = get_completion(prompt)\n",
        "print(response)\n"
      ],
      "metadata": {
        "colab": {
          "base_uri": "https://localhost:8080/"
        },
        "id": "b4E14hhCPU93",
        "outputId": "40bcdddf-5bfb-42bc-e564-4727ab93a84f"
      },
      "execution_count": 11,
      "outputs": [
        {
          "output_type": "stream",
          "name": "stdout",
          "text": [
            "Soft and cute panda plush toy loved by daughter, but a bit small for the price. Arrived early.\n"
          ]
        }
      ]
    },
    {
      "cell_type": "markdown",
      "source": [
        "## Summarize with a focus on shipping and delivery"
      ],
      "metadata": {
        "id": "10NFLIkEPx2L"
      }
    },
    {
      "cell_type": "code",
      "source": [
        "prompt = f\"\"\"\n",
        "Your task is to generate a short summary of a product \\\n",
        "review from an ecommerce site to give feedback to the \\\n",
        "Shipping deparmtment. \n",
        "\n",
        "Summarize the review below, delimited by triple \n",
        "backticks, in at most 30 words, and focusing on any aspects \\\n",
        "that mention shipping and delivery of the product. \n",
        "\n",
        "Review: ```{prod_review}```\n",
        "\"\"\"\n",
        "\n",
        "response = get_completion(prompt)\n",
        "print(response)\n"
      ],
      "metadata": {
        "colab": {
          "base_uri": "https://localhost:8080/"
        },
        "id": "2H2MJQU2Pyvc",
        "outputId": "c4c8e827-87ff-49b1-8953-1b856959f4df"
      },
      "execution_count": 12,
      "outputs": [
        {
          "output_type": "stream",
          "name": "stdout",
          "text": [
            "The panda plush toy arrived a day earlier than expected, but the customer felt it was a bit small for the price paid.\n"
          ]
        }
      ]
    },
    {
      "cell_type": "markdown",
      "source": [
        "## Summarize with a focus on price and value"
      ],
      "metadata": {
        "id": "dueM3x1NP8pe"
      }
    },
    {
      "cell_type": "code",
      "source": [
        "prompt = f\"\"\"\n",
        "Your task is to generate a short summary of a product \\\n",
        "review from an ecommerce site to give feedback to the \\\n",
        "pricing deparmtment, responsible for determining the \\\n",
        "price of the product.  \n",
        "\n",
        "Summarize the review below, delimited by triple \n",
        "backticks, in at most 30 words, and focusing on any aspects \\\n",
        "that are relevant to the price and perceived value. \n",
        "\n",
        "Review: ```{prod_review}```\n",
        "\"\"\"\n",
        "\n",
        "response = get_completion(prompt)\n",
        "print(response)\n"
      ],
      "metadata": {
        "colab": {
          "base_uri": "https://localhost:8080/"
        },
        "id": "l3pEjfnOP1BA",
        "outputId": "af9d8170-4fea-4c62-ab24-7f7b01dd7df4"
      },
      "execution_count": 13,
      "outputs": [
        {
          "output_type": "stream",
          "name": "stdout",
          "text": [
            "The panda plush toy is soft, cute, and loved by the recipient, but the price may be too high for its size.\n"
          ]
        }
      ]
    },
    {
      "cell_type": "markdown",
      "source": [
        "#### Comment¶\n",
        "Summaries include topics that are not related to the topic of focus."
      ],
      "metadata": {
        "id": "0pOfY_0TQUKE"
      }
    },
    {
      "cell_type": "markdown",
      "source": [
        "## Try \"extract\" instead of \"summarize\""
      ],
      "metadata": {
        "id": "DDGvoWQrQfkM"
      }
    },
    {
      "cell_type": "code",
      "source": [
        "prompt = f\"\"\"\n",
        "Your task is to extract relevant information from \\ \n",
        "a product review from an ecommerce site to give \\\n",
        "feedback to the Shipping department. \n",
        "\n",
        "From the review below, delimited by triple quotes \\\n",
        "extract the information relevant to shipping and \\ \n",
        "delivery. Limit to 30 words. \n",
        "\n",
        "Review: ```{prod_review}```\n",
        "\"\"\"\n",
        "\n",
        "response = get_completion(prompt)\n",
        "print(response)"
      ],
      "metadata": {
        "colab": {
          "base_uri": "https://localhost:8080/"
        },
        "id": "N34ljJwUP_YB",
        "outputId": "cd929007-45f9-4ae5-fbac-36b28d59f718"
      },
      "execution_count": 14,
      "outputs": [
        {
          "output_type": "stream",
          "name": "stdout",
          "text": [
            "The product arrived a day earlier than expected.\n"
          ]
        }
      ]
    },
    {
      "cell_type": "markdown",
      "source": [
        "## Summarize multiple product reviews"
      ],
      "metadata": {
        "id": "oqysY5wEQs1_"
      }
    },
    {
      "cell_type": "code",
      "source": [
        "\n",
        "review_1 = prod_review \n",
        "\n",
        "# review for a standing lamp\n",
        "review_2 = \"\"\"\n",
        "Needed a nice lamp for my bedroom, and this one \\\n",
        "had additional storage and not too high of a price \\\n",
        "point. Got it fast - arrived in 2 days. The string \\\n",
        "to the lamp broke during the transit and the company \\\n",
        "happily sent over a new one. Came within a few days \\\n",
        "as well. It was easy to put together. Then I had a \\\n",
        "missing part, so I contacted their support and they \\\n",
        "very quickly got me the missing piece! Seems to me \\\n",
        "to be a great company that cares about their customers \\\n",
        "and products. \n",
        "\"\"\"\n",
        "\n",
        "# review for an electric toothbrush\n",
        "review_3 = \"\"\"\n",
        "My dental hygienist recommended an electric toothbrush, \\\n",
        "which is why I got this. The battery life seems to be \\\n",
        "pretty impressive so far. After initial charging and \\\n",
        "leaving the charger plugged in for the first week to \\\n",
        "condition the battery, I've unplugged the charger and \\\n",
        "been using it for twice daily brushing for the last \\\n",
        "3 weeks all on the same charge. But the toothbrush head \\\n",
        "is too small. I’ve seen baby toothbrushes bigger than \\\n",
        "this one. I wish the head was bigger with different \\\n",
        "length bristles to get between teeth better because \\\n",
        "this one doesn’t.  Overall if you can get this one \\\n",
        "around the $50 mark, it's a good deal. The manufactuer's \\\n",
        "replacements heads are pretty expensive, but you can \\\n",
        "get generic ones that're more reasonably priced. This \\\n",
        "toothbrush makes me feel like I've been to the dentist \\\n",
        "every day. My teeth feel sparkly clean! \n",
        "\"\"\"\n",
        "\n",
        "# review for a blender\n",
        "review_4 = \"\"\"\n",
        "So, they still had the 17 piece system on seasonal \\\n",
        "sale for around $49 in the month of November, about \\\n",
        "half off, but for some reason (call it price gouging) \\\n",
        "around the second week of December the prices all went \\\n",
        "up to about anywhere from between $70-$89 for the same \\\n",
        "system. And the 11 piece system went up around $10 or \\\n",
        "so in price also from the earlier sale price of $29. \\\n",
        "So it looks okay, but if you look at the base, the part \\\n",
        "where the blade locks into place doesn’t look as good \\\n",
        "as in previous editions from a few years ago, but I \\\n",
        "plan to be very gentle with it (example, I crush \\\n",
        "very hard items like beans, ice, rice, etc. in the \\ \n",
        "blender first then pulverize them in the serving size \\\n",
        "I want in the blender then switch to the whipping \\\n",
        "blade for a finer flour, and use the cross cutting blade \\\n",
        "first when making smoothies, then use the flat blade \\\n",
        "if I need them finer/less pulpy). Special tip when making \\\n",
        "smoothies, finely cut and freeze the fruits and \\\n",
        "vegetables (if using spinach-lightly stew soften the \\ \n",
        "spinach then freeze until ready for use-and if making \\\n",
        "sorbet, use a small to medium sized food processor) \\ \n",
        "that you plan to use that way you can avoid adding so \\\n",
        "much ice if at all-when making your smoothie. \\\n",
        "After about a year, the motor was making a funny noise. \\\n",
        "I called customer service but the warranty expired \\\n",
        "already, so I had to buy another one. FYI: The overall \\\n",
        "quality has gone done in these types of products, so \\\n",
        "they are kind of counting on brand recognition and \\\n",
        "consumer loyalty to maintain sales. Got it in about \\\n",
        "two days.\n",
        "\"\"\"\n",
        "\n",
        "reviews = [review_1, review_2, review_3, review_4]\n",
        "\n"
      ],
      "metadata": {
        "id": "GCEgipyCQt7h"
      },
      "execution_count": 15,
      "outputs": []
    },
    {
      "cell_type": "markdown",
      "source": [
        "Summarizing multiple reviews stored as a list"
      ],
      "metadata": {
        "id": "vMh5qgaDRU_4"
      }
    },
    {
      "cell_type": "code",
      "source": [
        "for i in range(len(reviews)):\n",
        "    prompt = f\"\"\"\n",
        "    Your task is to generate a short summary of a product \\ \n",
        "    review from an ecommerce site. \n",
        "\n",
        "    Summarize the review below, delimited by triple \\\n",
        "    backticks in at most 20 words. \n",
        "\n",
        "    Review: ```{reviews[i]}```\n",
        "    \"\"\"\n",
        "\n",
        "    response = get_completion(prompt)\n",
        "    print(i, response, \"\\n\",len(response),\"\\n\")\n"
      ],
      "metadata": {
        "colab": {
          "base_uri": "https://localhost:8080/"
        },
        "id": "0U0iVYy-RZ5n",
        "outputId": "7ca212b3-6ea5-4508-c6a3-2bcfa8a373dc"
      },
      "execution_count": 16,
      "outputs": [
        {
          "output_type": "stream",
          "name": "stdout",
          "text": [
            "0 Soft and cute panda plush toy loved by daughter, but a bit small for the price. Arrived early. \n",
            " 94 \n",
            "\n",
            "1 Affordable lamp with storage, fast shipping, and excellent customer service. Easy to assemble and missing parts were quickly replaced. \n",
            " 134 \n",
            "\n",
            "2 Good battery life, small toothbrush head, but effective cleaning. Good deal if bought around $50. \n",
            " 97 \n",
            "\n",
            "3 The product was on sale for $49 in November, but the price increased to $70-$89 in December. The base doesn't look as good as previous editions, but the reviewer plans to be gentle with it. A special tip for making smoothies is to freeze the fruits and vegetables beforehand. The motor made a funny noise after a year, and the warranty had expired. Overall quality has decreased. \n",
            " 379 \n",
            "\n"
          ]
        }
      ]
    },
    {
      "cell_type": "markdown",
      "source": [
        "## INFERRING - prompt Engineering 4\n",
        "\n",
        "# Inferring\n",
        "- Infer sentiment and topics from product reviews and news articles."
      ],
      "metadata": {
        "id": "aNXfye0aRxqX"
      }
    },
    {
      "cell_type": "markdown",
      "source": [
        "#### Product Review Text"
      ],
      "metadata": {
        "id": "dSO2rH_rDnr2"
      }
    },
    {
      "cell_type": "code",
      "source": [
        "lamp_review = \"\"\"\n",
        "Needed a nice lamp for my bedroom, and this one had \\\n",
        "additional storage and not too high of a price point. \\\n",
        "Got it fast.  The string to our lamp broke during the \\\n",
        "transit and the company happily sent over a new one. \\\n",
        "Came within a few days as well. It was easy to put \\\n",
        "together.  I had a missing part, so I contacted their \\\n",
        "support and they very quickly got me the missing piece! \\\n",
        "Lumina seems to me to be a great company that cares \\\n",
        "about their customers and products!!\n",
        "\"\"\""
      ],
      "metadata": {
        "id": "Hmt5rUovRkY_"
      },
      "execution_count": 4,
      "outputs": []
    },
    {
      "cell_type": "markdown",
      "source": [
        "## Sentiment (positive/negative)"
      ],
      "metadata": {
        "id": "EsV2s3SUbx_9"
      }
    },
    {
      "cell_type": "code",
      "source": [
        "prompt = f\"\"\"\n",
        "What is the sentiment of the following product review, \n",
        "which is delimited with triple backticks?\n",
        "\n",
        "Review text: '''{lamp_review}'''\n",
        "\"\"\"\n",
        "response = get_completion(prompt)\n",
        "print(response)"
      ],
      "metadata": {
        "colab": {
          "base_uri": "https://localhost:8080/"
        },
        "id": "kBbAXrgNDrZb",
        "outputId": "f703d940-f43e-41c5-b29d-8e42758c92aa"
      },
      "execution_count": 5,
      "outputs": [
        {
          "output_type": "stream",
          "name": "stdout",
          "text": [
            "The sentiment of the product review is positive.\n"
          ]
        }
      ]
    },
    {
      "cell_type": "code",
      "source": [
        "prompt = f\"\"\"\n",
        "What is the sentiment of the following product review, \n",
        "which is delimited with triple backticks?\n",
        "\n",
        "Give your answer as a single word, either \"positive\" \\\n",
        "or \"negative\".\n",
        "\n",
        "Review text: '''{lamp_review}'''\n",
        "\"\"\"\n",
        "response = get_completion(prompt)\n",
        "print(response)"
      ],
      "metadata": {
        "colab": {
          "base_uri": "https://localhost:8080/"
        },
        "id": "v_6Fr0RGcXt8",
        "outputId": "7ad338f4-3cf2-4262-9f29-eb597477cea9"
      },
      "execution_count": 6,
      "outputs": [
        {
          "output_type": "stream",
          "name": "stdout",
          "text": [
            "positive\n"
          ]
        }
      ]
    },
    {
      "cell_type": "markdown",
      "source": [
        "## Identify types of emotions"
      ],
      "metadata": {
        "id": "It7HGUfjceCv"
      }
    },
    {
      "cell_type": "code",
      "source": [
        "prompt = f\"\"\"\n",
        "Identify a list of emotions that the writer of the \\\n",
        "following review is expressing. Include no more than \\\n",
        "five items in the list. Format your answer as a list of \\\n",
        "lower-case words separated by commas.\n",
        "\n",
        "Review text: '''{lamp_review}'''\n",
        "\"\"\"\n",
        "response = get_completion(prompt)\n",
        "print(response)"
      ],
      "metadata": {
        "colab": {
          "base_uri": "https://localhost:8080/"
        },
        "id": "ea2cGzQWceld",
        "outputId": "ff3569ea-8127-4be1-e824-325ce3d6d8a3"
      },
      "execution_count": 7,
      "outputs": [
        {
          "output_type": "stream",
          "name": "stdout",
          "text": [
            "happy, satisfied, grateful, impressed, content\n"
          ]
        }
      ]
    },
    {
      "cell_type": "markdown",
      "source": [
        "## Identify anger"
      ],
      "metadata": {
        "id": "DZWnz97GcqKE"
      }
    },
    {
      "cell_type": "code",
      "source": [
        "prompt = f\"\"\"\n",
        "Is the writer of the following review expressing anger?\\\n",
        "The review is delimited with triple backticks. \\\n",
        "Give your answer as either yes or no.\n",
        "\n",
        "Review text: '''{lamp_review}'''\n",
        "\"\"\"\n",
        "response = get_completion(prompt)\n",
        "print(response)"
      ],
      "metadata": {
        "colab": {
          "base_uri": "https://localhost:8080/"
        },
        "id": "_xzHpuOHctUb",
        "outputId": "84940000-3221-4f08-d01f-4e3bc21fb433"
      },
      "execution_count": 8,
      "outputs": [
        {
          "output_type": "stream",
          "name": "stdout",
          "text": [
            "No\n"
          ]
        }
      ]
    },
    {
      "cell_type": "markdown",
      "source": [
        "## Extract product and company name from customer reviews"
      ],
      "metadata": {
        "id": "qLbfZO-KdrF1"
      }
    },
    {
      "cell_type": "code",
      "source": [
        "prompt = f\"\"\"\n",
        "Identify the following items from the review text: \n",
        "- Item purchased by reviewer\n",
        "- Company that made the item\n",
        "\n",
        "The review is delimited with triple backticks. \\\n",
        "Format your response as a JSON object with \\\n",
        "\"Item\" and \"Brand\" as the keys. \n",
        "If the information isn't present, use \"unknown\" \\\n",
        "as the value.\n",
        "Make your response as short as possible.\n",
        "  \n",
        "Review text: '''{lamp_review}'''\n",
        "\"\"\"\n",
        "response = get_completion(prompt)\n",
        "print(response)"
      ],
      "metadata": {
        "colab": {
          "base_uri": "https://localhost:8080/"
        },
        "id": "zzKBfj6pdrsc",
        "outputId": "a366f72d-68b2-4f04-9a0e-1d79343f392f"
      },
      "execution_count": 9,
      "outputs": [
        {
          "output_type": "stream",
          "name": "stdout",
          "text": [
            "{\n",
            "  \"Item\": \"lamp\",\n",
            "  \"Brand\": \"Lumina\"\n",
            "}\n"
          ]
        }
      ]
    },
    {
      "cell_type": "markdown",
      "source": [
        "## Doing multiple tasks at once"
      ],
      "metadata": {
        "id": "UDMEs2IAehg6"
      }
    },
    {
      "cell_type": "code",
      "source": [
        "prompt = f\"\"\"\n",
        "Identify the following items from the review text: \n",
        "- Sentiment (positive or negative)\n",
        "- Is the reviewer expressing anger? (true or false)\n",
        "- Item purchased by reviewer\n",
        "- Company that made the item\n",
        "\n",
        "The review is delimited with triple backticks. \\\n",
        "Format your response as a JSON object with \\\n",
        "\"Sentiment\", \"Anger\", \"Item\" and \"Brand\" as the keys.\n",
        "If the information isn't present, use \"unknown\" \\\n",
        "as the value.\n",
        "Make your response as short as possible.\n",
        "Format the Anger value as a boolean.\n",
        "\n",
        "Review text: '''{lamp_review}'''\n",
        "\"\"\"\n",
        "response = get_completion(prompt)\n",
        "print(response)"
      ],
      "metadata": {
        "colab": {
          "base_uri": "https://localhost:8080/"
        },
        "id": "tKDnMW0sduak",
        "outputId": "62871f79-8f56-4d17-d88a-99818fde7f1d"
      },
      "execution_count": 10,
      "outputs": [
        {
          "output_type": "stream",
          "name": "stdout",
          "text": [
            "{\n",
            "  \"Sentiment\": \"positive\",\n",
            "  \"Anger\": false,\n",
            "  \"Item\": \"lamp with additional storage\",\n",
            "  \"Brand\": \"Lumina\"\n",
            "}\n"
          ]
        }
      ]
    },
    {
      "cell_type": "markdown",
      "source": [
        "## Inferring topics"
      ],
      "metadata": {
        "id": "SekHl7VNfCqx"
      }
    },
    {
      "cell_type": "code",
      "source": [
        "story = \"\"\"\n",
        "In a recent survey conducted by the government, \n",
        "public sector employees were asked to rate their level \n",
        "of satisfaction with the department they work at. \n",
        "The results revealed that NASA was the most popular \n",
        "department with a satisfaction rating of 95%.\n",
        "\n",
        "One NASA employee, John Smith, commented on the findings, \n",
        "stating, \"I'm not surprised that NASA came out on top. \n",
        "It's a great place to work with amazing people and \n",
        "incredible opportunities. I'm proud to be a part of \n",
        "such an innovative organization.\"\n",
        "\n",
        "The results were also welcomed by NASA's management team, \n",
        "with Director Tom Johnson stating, \"We are thrilled to \n",
        "hear that our employees are satisfied with their work at NASA. \n",
        "We have a talented and dedicated team who work tirelessly \n",
        "to achieve our goals, and it's fantastic to see that their \n",
        "hard work is paying off.\"\n",
        "\n",
        "The survey also revealed that the \n",
        "Social Security Administration had the lowest satisfaction \n",
        "rating, with only 45% of employees indicating they were \n",
        "satisfied with their job. The government has pledged to \n",
        "address the concerns raised by employees in the survey and \n",
        "work towards improving job satisfaction across all departments.\n",
        "\"\"\""
      ],
      "metadata": {
        "id": "geV32N1afEsy"
      },
      "execution_count": 11,
      "outputs": []
    },
    {
      "cell_type": "markdown",
      "source": [
        "## Infer 5 topics"
      ],
      "metadata": {
        "id": "VgLF4OhefT9N"
      }
    },
    {
      "cell_type": "code",
      "source": [
        "prompt = f\"\"\"\n",
        "Determine five topics that are being discussed in the \\\n",
        "following text, which is delimited by triple backticks.\n",
        "\n",
        "Make each item one or two words long. \n",
        "\n",
        "Format your response as a list of items separated by commas.\n",
        "\n",
        "Text sample: '''{story}'''\n",
        "\"\"\"\n",
        "response = get_completion(prompt)\n",
        "print(response)"
      ],
      "metadata": {
        "colab": {
          "base_uri": "https://localhost:8080/"
        },
        "id": "ksZJa_DofV6L",
        "outputId": "a514e383-6969-45e9-e591-0064bfa149b7"
      },
      "execution_count": 12,
      "outputs": [
        {
          "output_type": "stream",
          "name": "stdout",
          "text": [
            "government survey, job satisfaction, NASA, Social Security Administration, employee concerns\n"
          ]
        }
      ]
    },
    {
      "cell_type": "code",
      "source": [
        "topic_list = response.split(sep=',')"
      ],
      "metadata": {
        "id": "0oPBZJM1fWH6"
      },
      "execution_count": 14,
      "outputs": []
    },
    {
      "cell_type": "code",
      "source": [
        "topic_list"
      ],
      "metadata": {
        "colab": {
          "base_uri": "https://localhost:8080/"
        },
        "id": "-AKlnhcLgCqi",
        "outputId": "0a0c0280-f0fc-4fd9-9eb7-4b6128edc894"
      },
      "execution_count": 15,
      "outputs": [
        {
          "output_type": "execute_result",
          "data": {
            "text/plain": [
              "['government survey',\n",
              " ' job satisfaction',\n",
              " ' NASA',\n",
              " ' Social Security Administration',\n",
              " ' employee concerns']"
            ]
          },
          "metadata": {},
          "execution_count": 15
        }
      ]
    },
    {
      "cell_type": "markdown",
      "source": [
        "## Make a news alert for certain topics"
      ],
      "metadata": {
        "id": "0BmCg1o7iZl6"
      }
    },
    {
      "cell_type": "code",
      "source": [
        "prompt = f\"\"\"\n",
        "Determine whether each item in the following list of \\\n",
        "topics is a topic in the text below, which\n",
        "is delimited with triple backticks.\n",
        "\n",
        "Give your answer as list with 0 or 1 for each topic.\\\n",
        "\n",
        "List of topics: {\", \".join(topic_list)}\n",
        "\n",
        "Text sample: '''{story}'''\n",
        "\"\"\"\n",
        "response = get_completion(prompt)\n",
        "print(response)"
      ],
      "metadata": {
        "colab": {
          "base_uri": "https://localhost:8080/"
        },
        "id": "fp4MvXIDiS5c",
        "outputId": "79cf8a1e-c64b-402b-da9d-e3a98cb0457a"
      },
      "execution_count": 16,
      "outputs": [
        {
          "output_type": "stream",
          "name": "stdout",
          "text": [
            "government survey: 1\n",
            "job satisfaction: 1\n",
            "NASA: 1\n",
            "Social Security Administration: 1\n",
            "employee concerns: 0\n"
          ]
        }
      ]
    },
    {
      "cell_type": "code",
      "source": [
        "topic_dict = {i.split(': ')[0]: int(i.split(': ')[1]) for i in response.split(sep='\\n')}\n",
        "if topic_dict['NASA'] == 1:\n",
        "    print(\"ALERT: New NASA story!\")"
      ],
      "metadata": {
        "colab": {
          "base_uri": "https://localhost:8080/"
        },
        "id": "RPf8LyyvixHC",
        "outputId": "316c4a6d-8979-499f-e3a5-985d0a9432a7"
      },
      "execution_count": 18,
      "outputs": [
        {
          "output_type": "stream",
          "name": "stdout",
          "text": [
            "ALERT: New NASA story!\n"
          ]
        }
      ]
    },
    {
      "cell_type": "markdown",
      "source": [
        "## Translation\n",
        "\n",
        "ChatGPT is trained with sources in many languages. This gives the model the ability to do translation. Here are some examples of how to use this capability."
      ],
      "metadata": {
        "id": "vOd5nYUEm8fj"
      }
    },
    {
      "cell_type": "code",
      "source": [
        "prompt = f\"\"\"\n",
        "Translate the following English text to Spanish: \\ \n",
        "```Hi, I would like to order a blender```\n",
        "\"\"\"\n",
        "response = get_completion(prompt)\n",
        "print(response)"
      ],
      "metadata": {
        "colab": {
          "base_uri": "https://localhost:8080/"
        },
        "id": "xSCu8wO2m9zp",
        "outputId": "d9780a52-cdc4-44e5-f399-c53cf0c3046b"
      },
      "execution_count": 19,
      "outputs": [
        {
          "output_type": "stream",
          "name": "stdout",
          "text": [
            "Hola, me gustaría ordenar una licuadora.\n"
          ]
        }
      ]
    },
    {
      "cell_type": "code",
      "source": [
        "prompt = f\"\"\"\n",
        "Tell me which language this is: \n",
        "```Combien coûte le lampadaire?```\n",
        "\"\"\"\n",
        "response = get_completion(prompt)\n",
        "print(response)"
      ],
      "metadata": {
        "colab": {
          "base_uri": "https://localhost:8080/"
        },
        "id": "YfBDLTBVnDsm",
        "outputId": "07b5a1ad-fa7f-4f9d-abbe-859738c475c5"
      },
      "execution_count": 20,
      "outputs": [
        {
          "output_type": "stream",
          "name": "stdout",
          "text": [
            "This is French.\n"
          ]
        }
      ]
    },
    {
      "cell_type": "code",
      "source": [
        "prompt = f\"\"\"\n",
        "Translate the following  text to French ,Spanish ,Hindi\n",
        "and English pirate: \\\n",
        "```I want to order a basketball```\n",
        "\"\"\"\n",
        "response = get_completion(prompt)\n",
        "print(response)"
      ],
      "metadata": {
        "colab": {
          "base_uri": "https://localhost:8080/"
        },
        "id": "UTcVESohnE88",
        "outputId": "25c00ebd-8c18-4537-ebae-38b7a7567680"
      },
      "execution_count": 21,
      "outputs": [
        {
          "output_type": "stream",
          "name": "stdout",
          "text": [
            "French: Je veux commander un ballon de basket\n",
            "Spanish: Quiero ordenar una pelota de baloncesto\n",
            "Hindi: मैं एक बास्केटबॉल आदेश देना चाहता हूँ। (Main ek basketball order dena chahta hoon)\n",
            "English Pirate: Arrr, I be wantin' to order a basketball, matey!\n"
          ]
        }
      ]
    },
    {
      "cell_type": "code",
      "source": [
        "prompt = f\"\"\"\n",
        "Translate the following text to Spanish in both the \\\n",
        "formal and informal forms: \n",
        "'Would you like to order a pillow?'\n",
        "\"\"\"\n",
        "response = get_completion(prompt)\n",
        "print(response)"
      ],
      "metadata": {
        "colab": {
          "base_uri": "https://localhost:8080/"
        },
        "id": "rJWb1iErnXEh",
        "outputId": "bdf56374-6547-4c2b-d996-527a14194066"
      },
      "execution_count": 22,
      "outputs": [
        {
          "output_type": "stream",
          "name": "stdout",
          "text": [
            "Formal: ¿Le gustaría ordenar una almohada?\n",
            "Informal: ¿Te gustaría ordenar una almohada?\n"
          ]
        }
      ]
    },
    {
      "cell_type": "markdown",
      "source": [
        "### Universal Translator\n",
        "Imagine you are in charge of IT at a large multinational e-commerce company. Users are messaging you with IT issues in all their native languages. Your staff is from all over the world and speaks only their native languages. You need a universal translator!"
      ],
      "metadata": {
        "id": "kEY0QxWane6e"
      }
    },
    {
      "cell_type": "code",
      "source": [
        "user_messages = [\n",
        "  \"La performance du système est plus lente que d'habitude.\",  # System performance is slower than normal         \n",
        "  \"Mi monitor tiene píxeles que no se iluminan.\",              # My monitor has pixels that are not lighting\n",
        "  \"Il mio mouse non funziona\",                                 # My mouse is not working\n",
        "  \"Mój klawisz Ctrl jest zepsuty\",                             # My keyboard has a broken control key\n",
        "  \"我的屏幕在闪烁\"                                               # My screen is flashing\n",
        "] "
      ],
      "metadata": {
        "id": "1TeKj5VgngVM"
      },
      "execution_count": 23,
      "outputs": []
    },
    {
      "cell_type": "code",
      "source": [
        "for issue in user_messages:\n",
        "    prompt = f\"Tell me what language this is: ```{issue}```\"\n",
        "    lang = get_completion(prompt)\n",
        "    print(f\"Original message ({lang}): {issue}\")\n",
        "\n",
        "    prompt = f\"\"\"\n",
        "    Translate the following  text to English \\\n",
        "    and Hindi: ```{issue}```\n",
        "    \"\"\"\n",
        "    response = get_completion(prompt)\n",
        "    print(response, \"\\n\")"
      ],
      "metadata": {
        "colab": {
          "base_uri": "https://localhost:8080/"
        },
        "id": "iXmJb4G4nl8N",
        "outputId": "23b9f903-d806-47b6-cab7-d92da2192398"
      },
      "execution_count": 25,
      "outputs": [
        {
          "output_type": "stream",
          "name": "stdout",
          "text": [
            "Original message (This is French.): La performance du système est plus lente que d'habitude.\n",
            "English: The system performance is slower than usual.\n",
            "Hindi: सिस्टम कार्यक्षमता आम तौर पर से धीमी है। \n",
            "\n",
            "Original message (This is Spanish.): Mi monitor tiene píxeles que no se iluminan.\n",
            "English: My monitor has pixels that don't light up.\n",
            "Hindi: मेरे मॉनिटर में पिक्सेल हैं जो जलने वाले नहीं हैं। \n",
            "\n",
            "Original message (This is Italian.): Il mio mouse non funziona\n",
            "English: My mouse is not working\n",
            "Hindi: मेरा माउस काम नहीं कर रहा है। \n",
            "\n",
            "Original message (This is Polish.): Mój klawisz Ctrl jest zepsuty\n",
            "English: My Ctrl key is broken.\n",
            "Hindi: मेरी Ctrl कुंजी टूट गई है। \n",
            "\n",
            "Original message (This is Chinese (Simplified).): 我的屏幕在闪烁\n",
            "English: My screen is flickering.\n",
            "Hindi: मेरी स्क्रीन फ्लिकरिंग हो रही है। \n",
            "\n"
          ]
        }
      ]
    },
    {
      "cell_type": "markdown",
      "source": [
        "## Tone Transformation\n",
        "Writing can vary based on the intended audience. ChatGPT can produce different tones."
      ],
      "metadata": {
        "id": "E1l05XICoNeH"
      }
    },
    {
      "cell_type": "code",
      "source": [
        "prompt = f\"\"\"\n",
        "Translate the following from slang to a business letter: \n",
        "'Dude, This is Joe, check out this spec on this standing lamp.'\n",
        "\"\"\"\n",
        "response = get_completion(prompt)\n",
        "print(response)"
      ],
      "metadata": {
        "colab": {
          "base_uri": "https://localhost:8080/"
        },
        "id": "Bpsq45ECoOqk",
        "outputId": "b0715c1e-1303-4936-8782-a2d5b5c46dc0"
      },
      "execution_count": 26,
      "outputs": [
        {
          "output_type": "stream",
          "name": "stdout",
          "text": [
            "Dear Sir/Madam,\n",
            "\n",
            "I am writing to bring to your attention a standing lamp that I believe may be of interest to you. Please find attached the specifications for your review.\n",
            "\n",
            "Thank you for your time and consideration.\n",
            "\n",
            "Sincerely,\n",
            "\n",
            "Joe\n"
          ]
        }
      ]
    },
    {
      "cell_type": "markdown",
      "source": [
        "## Format Conversion\n",
        "ChatGPT can translate between formats. The prompt should describe the input and output formats."
      ],
      "metadata": {
        "id": "X9TPIIJUoV50"
      }
    },
    {
      "cell_type": "code",
      "source": [
        "data_json = { \"resturant employees\" :[ \n",
        "    {\"name\":\"Shyam\", \"email\":\"shyamjaiswal@gmail.com\"},\n",
        "    {\"name\":\"Bob\", \"email\":\"bob32@gmail.com\"},\n",
        "    {\"name\":\"Jai\", \"email\":\"jai87@gmail.com\"}\n",
        "]}\n",
        "\n",
        "prompt = f\"\"\"\n",
        "Translate the following python dictionary from JSON to an HTML \\\n",
        "table with column headers and title: {data_json}\n",
        "\"\"\"\n",
        "response = get_completion(prompt)\n",
        "print(response)"
      ],
      "metadata": {
        "colab": {
          "base_uri": "https://localhost:8080/"
        },
        "id": "rP4HWIYaoWww",
        "outputId": "8381f53c-ca6c-410f-e03f-7fbdd34c85bf"
      },
      "execution_count": 27,
      "outputs": [
        {
          "output_type": "stream",
          "name": "stdout",
          "text": [
            "<table>\n",
            "  <caption>Restaurant Employees</caption>\n",
            "  <thead>\n",
            "    <tr>\n",
            "      <th>Name</th>\n",
            "      <th>Email</th>\n",
            "    </tr>\n",
            "  </thead>\n",
            "  <tbody>\n",
            "    <tr>\n",
            "      <td>Shyam</td>\n",
            "      <td>shyamjaiswal@gmail.com</td>\n",
            "    </tr>\n",
            "    <tr>\n",
            "      <td>Bob</td>\n",
            "      <td>bob32@gmail.com</td>\n",
            "    </tr>\n",
            "    <tr>\n",
            "      <td>Jai</td>\n",
            "      <td>jai87@gmail.com</td>\n",
            "    </tr>\n",
            "  </tbody>\n",
            "</table>\n"
          ]
        }
      ]
    },
    {
      "cell_type": "code",
      "source": [
        "from IPython.display import display, Markdown, Latex, HTML, JSON\n",
        "display(HTML(response))"
      ],
      "metadata": {
        "colab": {
          "base_uri": "https://localhost:8080/",
          "height": 120
        },
        "id": "j7wkSk5LocsB",
        "outputId": "81954141-94a0-410d-f07a-c31a8ad3d2c0"
      },
      "execution_count": 28,
      "outputs": [
        {
          "output_type": "display_data",
          "data": {
            "text/plain": [
              "<IPython.core.display.HTML object>"
            ],
            "text/html": [
              "<table>\n",
              "  <caption>Restaurant Employees</caption>\n",
              "  <thead>\n",
              "    <tr>\n",
              "      <th>Name</th>\n",
              "      <th>Email</th>\n",
              "    </tr>\n",
              "  </thead>\n",
              "  <tbody>\n",
              "    <tr>\n",
              "      <td>Shyam</td>\n",
              "      <td>shyamjaiswal@gmail.com</td>\n",
              "    </tr>\n",
              "    <tr>\n",
              "      <td>Bob</td>\n",
              "      <td>bob32@gmail.com</td>\n",
              "    </tr>\n",
              "    <tr>\n",
              "      <td>Jai</td>\n",
              "      <td>jai87@gmail.com</td>\n",
              "    </tr>\n",
              "  </tbody>\n",
              "</table>"
            ]
          },
          "metadata": {}
        }
      ]
    },
    {
      "cell_type": "markdown",
      "source": [
        "## Spellcheck/Grammar check.\n",
        "\n",
        "Here are some examples of common grammar and spelling problems and the LLM's response. \n",
        "\n",
        "To signal to the LLM that you want it to proofread your text, you instruct the model to 'proofread' or 'proofread and correct'."
      ],
      "metadata": {
        "id": "_LTflOUSokhQ"
      }
    },
    {
      "cell_type": "code",
      "source": [
        "text = [ \n",
        "  \"The girl with the black and white puppies have a ball.\",  # The girl has a ball.\n",
        "  \"Yolanda has her notebook.\", # ok\n",
        "  \"Its going to be a long day. Does the car need it’s oil changed?\",  # Homonyms\n",
        "  \"Their goes my freedom. There going to bring they’re suitcases.\",  # Homonyms\n",
        "  \"Your going to need you’re notebook.\",  # Homonyms\n",
        "  \"That medicine effects my ability to sleep. Have you heard of the butterfly affect?\", # Homonyms\n",
        "  \"This phrase is to cherck chatGPT for speling abilitty\"  # spelling\n",
        "]\n",
        "for t in text:\n",
        "    prompt = f\"\"\"Proofread and correct the following text\n",
        "    and rewrite the corrected version. If you don't find\n",
        "    and errors, just say \"No errors found\". Don't use \n",
        "    any punctuation around the text:\n",
        "    ```{t}```\"\"\"\n",
        "    response = get_completion(prompt)\n",
        "    print(response)"
      ],
      "metadata": {
        "colab": {
          "base_uri": "https://localhost:8080/"
        },
        "id": "0V1Mz2qpooyO",
        "outputId": "1ebd5768-6bde-4de8-9558-c1f97ee894ba"
      },
      "execution_count": 29,
      "outputs": [
        {
          "output_type": "stream",
          "name": "stdout",
          "text": [
            "The girl with the black and white puppies has a ball.\n",
            "No errors found.\n",
            "It's going to be a long day. Does the car need its oil changed?\n",
            "Their goes my freedom. There going to bring they're suitcases.\n",
            "\n",
            "Corrected version: \n",
            "There goes my freedom. They're going to bring their suitcases.\n",
            "You're going to need your notebook.\n",
            "That medicine affects my ability to sleep. Have you heard of the butterfly effect?\n",
            "This phrase is to check ChatGPT for spelling ability.\n"
          ]
        }
      ]
    },
    {
      "cell_type": "code",
      "source": [
        "text = f\"\"\"\n",
        "Got this for my daughter for her birthday cuz she keeps taking \\\n",
        "mine from my room.  Yes, adults also like pandas too.  She takes \\\n",
        "it everywhere with her, and it's super soft and cute.  One of the \\\n",
        "ears is a bit lower than the other, and I don't think that was \\\n",
        "designed to be asymmetrical. It's a bit small for what I paid for it \\\n",
        "though. I think there might be other options that are bigger for \\\n",
        "the same price.  It arrived a day earlier than expected, so I got \\\n",
        "to play with it myself before I gave it to my daughter.\n",
        "\"\"\"\n",
        "prompt = f\"proofread and correct this review: ```{text}```\"\n",
        "response = get_completion(prompt)\n",
        "print(response)"
      ],
      "metadata": {
        "colab": {
          "base_uri": "https://localhost:8080/"
        },
        "id": "WOf0ZXt-o0wV",
        "outputId": "435a46e2-397a-408b-dcf5-5651a9192639"
      },
      "execution_count": 30,
      "outputs": [
        {
          "output_type": "stream",
          "name": "stdout",
          "text": [
            "I got this for my daughter's birthday because she keeps taking mine from my room. Yes, adults also like pandas too. She takes it everywhere with her, and it's super soft and cute. However, one of the ears is a bit lower than the other, and I don't think that was designed to be asymmetrical. Additionally, it's a bit small for what I paid for it. I think there might be other options that are bigger for the same price. On the positive side, it arrived a day earlier than expected, so I got to play with it myself before I gave it to my daughter.\n"
          ]
        }
      ]
    },
    {
      "cell_type": "markdown",
      "source": [
        "##"
      ],
      "metadata": {
        "id": "1B2UF4qRpCwJ"
      }
    },
    {
      "cell_type": "code",
      "source": [
        "!pip install redlines"
      ],
      "metadata": {
        "colab": {
          "base_uri": "https://localhost:8080/"
        },
        "id": "i6CSEbBjpFg8",
        "outputId": "bda203b1-3769-465a-cc26-9a211aab4c7d"
      },
      "execution_count": 32,
      "outputs": [
        {
          "output_type": "stream",
          "name": "stdout",
          "text": [
            "Looking in indexes: https://pypi.org/simple, https://us-python.pkg.dev/colab-wheels/public/simple/\n",
            "Collecting redlines\n",
            "  Downloading redlines-0.3.0-py3-none-any.whl (5.5 kB)\n",
            "Installing collected packages: redlines\n",
            "Successfully installed redlines-0.3.0\n"
          ]
        }
      ]
    },
    {
      "cell_type": "code",
      "source": [
        "from redlines import Redlines\n",
        "\n",
        "diff = Redlines(text,response)\n",
        "display(Markdown(diff.output_markdown))"
      ],
      "metadata": {
        "colab": {
          "base_uri": "https://localhost:8080/",
          "height": 401
        },
        "id": "S6KX9e1do3mq",
        "outputId": "623b973a-a49e-4f97-9a14-e50ef4ca4461"
      },
      "execution_count": 35,
      "outputs": [
        {
          "output_type": "display_data",
          "data": {
            "text/plain": [
              "<IPython.core.display.Markdown object>"
            ],
            "text/markdown": "<span style=\"color:red;font-weight:700;text-decoration:line-through;\">Got this for </span><span style=\"color:red;font-weight:700;\">Title: A Soft and Cute Panda Plush Toy for All Ages </span>\n\n<span style=\"color:red;font-weight:700;\">Introduction: </span>\n\n<span style=\"color:red;font-weight:700;\">As a parent, finding the perfect gift for your child's birthday can be a daunting task. However, I stumbled upon a soft and cute panda plush toy that not only made </span>my daughter <span style=\"color:red;font-weight:700;text-decoration:line-through;\">for her birthday cuz she keeps taking mine from </span><span style=\"color:red;font-weight:700;\">happy but also brought joy to me as an adult. In this review, I will share </span>my <span style=\"color:red;font-weight:700;text-decoration:line-through;\">room.  Yes, adults also like pandas too.  She takes it everywhere </span><span style=\"color:red;font-weight:700;\">experience </span>with <span style=\"color:red;font-weight:700;text-decoration:line-through;\">her, and it's </span><span style=\"color:red;font-weight:700;\">this product and provide an honest assessment of its features. </span>\n\n<span style=\"color:red;font-weight:700;\">Product Description: </span>\n\n<span style=\"color:red;font-weight:700;\">The panda plush toy is made of high-quality materials that make it </span>super soft and <span style=\"color:red;font-weight:700;text-decoration:line-through;\">cute.  </span><span style=\"color:red;font-weight:700;\">cuddly. Its cute design is perfect for children and adults alike, making it a versatile gift option. The toy is small enough to carry around, making it an ideal companion for your child on their adventures. </span>\n\n<span style=\"color:red;font-weight:700;\">Pros: </span>\n\n<span style=\"color:red;font-weight:700;\">The panda plush toy is incredibly soft and cute, making it an excellent gift for children and adults. Its small size makes it easy to carry around, and its design is perfect for snuggling. The toy arrived a day earlier than expected, which was a pleasant surprise. </span>\n\n<span style=\"color:red;font-weight:700;\">Cons: </span>\n\n<span style=\"color:red;font-weight:700;\"></span>One of the ears is a bit lower than the other, <span style=\"color:red;font-weight:700;text-decoration:line-through;\">and I don't think that was designed to be </span><span style=\"color:red;font-weight:700;\">which makes the toy </span>asymmetrical. <span style=\"color:red;font-weight:700;text-decoration:line-through;\">It's </span><span style=\"color:red;font-weight:700;\">Additionally, the toy is </span>a bit small for <span style=\"color:red;font-weight:700;text-decoration:line-through;\">what I paid for it though. I think </span><span style=\"color:red;font-weight:700;\">its price, and </span>there might be other options that are bigger for the same <span style=\"color:red;font-weight:700;text-decoration:line-through;\">price.  It arrived a day earlier than expected, so </span><span style=\"color:red;font-weight:700;\">price. </span>\n\n<span style=\"color:red;font-weight:700;\">Conclusion: </span>\n\n<span style=\"color:red;font-weight:700;\">Overall, the panda plush toy is an excellent gift option for children and adults who love cute and cuddly toys. Despite its small size and asymmetrical design, the toy's softness and cuteness make up for its shortcomings. </span>I <span style=\"color:red;font-weight:700;text-decoration:line-through;\">got to play with it myself before I gave it to my daughter.</span><span style=\"color:red;font-weight:700;\">highly recommend this product to anyone looking for a versatile and adorable gift option.</span>"
          },
          "metadata": {}
        }
      ]
    },
    {
      "cell_type": "code",
      "source": [
        "prompt = f\"\"\"\n",
        "proofread and correct this review. Make it more compelling. \n",
        "Ensure it follows APA style guide and targets an advanced reader. \n",
        "Output in markdown format.\n",
        "Text: ```{text}```\n",
        "\"\"\"\n",
        "response = get_completion(prompt)\n",
        "display(Markdown(response))"
      ],
      "metadata": {
        "colab": {
          "base_uri": "https://localhost:8080/",
          "height": 267
        },
        "id": "zFWsuKv-o66R",
        "outputId": "808739cb-8ed6-451e-9d8d-69fdf3d140ff"
      },
      "execution_count": 34,
      "outputs": [
        {
          "output_type": "display_data",
          "data": {
            "text/plain": [
              "<IPython.core.display.Markdown object>"
            ],
            "text/markdown": "Title: A Soft and Cute Panda Plush Toy for All Ages\n\nIntroduction:\nAs a parent, finding the perfect gift for your child's birthday can be a daunting task. However, I stumbled upon a soft and cute panda plush toy that not only made my daughter happy but also brought joy to me as an adult. In this review, I will share my experience with this product and provide an honest assessment of its features.\n\nProduct Description:\nThe panda plush toy is made of high-quality materials that make it super soft and cuddly. Its cute design is perfect for children and adults alike, making it a versatile gift option. The toy is small enough to carry around, making it an ideal companion for your child on their adventures.\n\nPros:\nThe panda plush toy is incredibly soft and cute, making it an excellent gift for children and adults. Its small size makes it easy to carry around, and its design is perfect for snuggling. The toy arrived a day earlier than expected, which was a pleasant surprise.\n\nCons:\nOne of the ears is a bit lower than the other, which makes the toy asymmetrical. Additionally, the toy is a bit small for its price, and there might be other options that are bigger for the same price.\n\nConclusion:\nOverall, the panda plush toy is an excellent gift option for children and adults who love cute and cuddly toys. Despite its small size and asymmetrical design, the toy's softness and cuteness make up for its shortcomings. I highly recommend this product to anyone looking for a versatile and adorable gift option."
          },
          "metadata": {}
        }
      ]
    },
    {
      "cell_type": "markdown",
      "source": [
        "# Expanding\n",
        "In this lesson, you will generate customer service emails that are tailored to each customer's review.\n",
        "\n",
        "## Setup"
      ],
      "metadata": {
        "id": "YIwWcbgb9tgz"
      }
    },
    {
      "cell_type": "markdown",
      "source": [
        "## Customize the automated reply to a customer email"
      ],
      "metadata": {
        "id": "twWFy-iU95FV"
      }
    },
    {
      "cell_type": "code",
      "source": [
        "# given the sentiment from the lesson on \"inferring\",\n",
        "# and the original customer message, customize the email\n",
        "sentiment = \"negative\"\n",
        "\n",
        "# review for a blender\n",
        "review = f\"\"\"\n",
        "So, they still had the 17 piece system on seasonal \\\n",
        "sale for around $49 in the month of November, about \\\n",
        "half off, but for some reason (call it price gouging) \\\n",
        "around the second week of December the prices all went \\\n",
        "up to about anywhere from between $70-$89 for the same \\\n",
        "system. And the 11 piece system went up around $10 or \\\n",
        "so in price also from the earlier sale price of $29. \\\n",
        "So it looks okay, but if you look at the base, the part \\\n",
        "where the blade locks into place doesn’t look as good \\\n",
        "as in previous editions from a few years ago, but I \\\n",
        "plan to be very gentle with it (example, I crush \\\n",
        "very hard items like beans, ice, rice, etc. in the \\ \n",
        "blender first then pulverize them in the serving size \\\n",
        "I want in the blender then switch to the whipping \\\n",
        "blade for a finer flour, and use the cross cutting blade \\\n",
        "first when making smoothies, then use the flat blade \\\n",
        "if I need them finer/less pulpy). Special tip when making \\\n",
        "smoothies, finely cut and freeze the fruits and \\\n",
        "vegetables (if using spinach-lightly stew soften the \\ \n",
        "spinach then freeze until ready for use-and if making \\\n",
        "sorbet, use a small to medium sized food processor) \\ \n",
        "that you plan to use that way you can avoid adding so \\\n",
        "much ice if at all-when making your smoothie. \\\n",
        "After about a year, the motor was making a funny noise. \\\n",
        "I called customer service but the warranty expired \\\n",
        "already, so I had to buy another one. FYI: The overall \\\n",
        "quality has gone done in these types of products, so \\\n",
        "they are kind of counting on brand recognition and \\\n",
        "consumer loyalty to maintain sales. Got it in about \\\n",
        "two days.\n",
        "\"\"\""
      ],
      "metadata": {
        "id": "cUbdBsIX9uQt"
      },
      "execution_count": 36,
      "outputs": []
    },
    {
      "cell_type": "code",
      "source": [
        "def get_completion(prompt, model=\"gpt-3.5-turbo\",temperature=0): # Andrew mentioned that the prompt/ completion paradigm is preferable for this class\n",
        "    messages = [{\"role\": \"user\", \"content\": prompt}]\n",
        "    response = openai.ChatCompletion.create(\n",
        "        model=model,\n",
        "        messages=messages,\n",
        "        temperature=temperature, # this is the degree of randomness of the model's output\n",
        "    )\n",
        "    return response.choices[0].message[\"content\"]"
      ],
      "metadata": {
        "id": "zgXzQ0_e-Qwf"
      },
      "execution_count": 38,
      "outputs": []
    },
    {
      "cell_type": "code",
      "source": [
        "prompt = f\"\"\"\n",
        "You are a customer service AI assistant.\n",
        "Your task is to send an email reply to a valued customer.\n",
        "Given the customer email delimited by ```, \\\n",
        "Generate a reply to thank the customer for their review.\n",
        "If the sentiment is positive or neutral, thank them for \\\n",
        "their review.\n",
        "If the sentiment is negative, apologize and suggest that \\\n",
        "they can reach out to customer service. \n",
        "Make sure to use specific details from the review.\n",
        "Write in a concise and professional tone.\n",
        "Sign the email as `AI customer agent`.\n",
        "Customer review: ```{review}```\n",
        "Review sentiment: {sentiment}\n",
        "\"\"\"\n",
        "response = get_completion(prompt)\n",
        "print(response)"
      ],
      "metadata": {
        "colab": {
          "base_uri": "https://localhost:8080/"
        },
        "id": "tc4H_nZx-BgN",
        "outputId": "2934ed91-e4bb-49c6-9f99-b81272141b0d"
      },
      "execution_count": 37,
      "outputs": [
        {
          "output_type": "stream",
          "name": "stdout",
          "text": [
            "Dear Valued Customer,\n",
            "\n",
            "Thank you for taking the time to leave a review about our product. We are sorry to hear that you experienced an increase in price and that the quality of the product did not meet your expectations. We apologize for any inconvenience this may have caused you.\n",
            "\n",
            "We would like to assure you that we take all feedback seriously and we will be sure to pass your comments along to our team. If you have any further concerns, please do not hesitate to reach out to our customer service team for assistance.\n",
            "\n",
            "Thank you again for your review and for choosing our product. We hope to have the opportunity to serve you better in the future.\n",
            "\n",
            "Best regards,\n",
            "\n",
            "AI customer agent\n"
          ]
        }
      ]
    },
    {
      "cell_type": "markdown",
      "source": [
        "## Remind the model to use details from the customer's email"
      ],
      "metadata": {
        "id": "SO8AJRTY-aUQ"
      }
    },
    {
      "cell_type": "code",
      "source": [
        "prompt = f\"\"\"\n",
        "You are a customer service AI assistant.\n",
        "Your task is to send an email reply to a valued customer.\n",
        "Given the customer email delimited by ```, \\\n",
        "Generate a reply to thank the customer for their review.\n",
        "If the sentiment is positive or neutral, thank them for \\\n",
        "their review.\n",
        "If the sentiment is negative, apologize and suggest that \\\n",
        "they can reach out to customer service. \n",
        "Make sure to use specific details from the review.\n",
        "Write in a concise and professional tone.\n",
        "Sign the email as `AI customer agent`.\n",
        "Customer review: ```{review}```\n",
        "Review sentiment: {sentiment}\n",
        "\"\"\"\n",
        "response = get_completion(prompt, temperature=0.7)\n",
        "print(response)"
      ],
      "metadata": {
        "colab": {
          "base_uri": "https://localhost:8080/"
        },
        "id": "U4RYL39E-cDL",
        "outputId": "3d77affd-7056-4cea-ef6b-73c01da10740"
      },
      "execution_count": 39,
      "outputs": [
        {
          "output_type": "stream",
          "name": "stdout",
          "text": [
            "Dear Valued Customer,\n",
            "\n",
            "Thank you for taking the time to share your thoughts about our 17 piece system. We are sorry to hear about the price increase and the issue with the blade lock. We apologize for any inconvenience that this may have caused you. We recommend reaching out to our customer service team for further assistance with the motor noise issue and to discuss any concerns you may have with the product.\n",
            "\n",
            "We appreciate your support and your loyalty to our brand. We will take your feedback into consideration as we strive to improve our products and services. Thank you again for your review.\n",
            "\n",
            "Best regards,\n",
            "\n",
            "AI customer agent\n"
          ]
        }
      ]
    },
    {
      "cell_type": "markdown",
      "source": [
        "## Chat Workflow"
      ],
      "metadata": {
        "id": "OXbBYt-h_0ss"
      }
    },
    {
      "cell_type": "markdown",
      "source": [
        "![image.png](data:image/png;base64,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)"
      ],
      "metadata": {
        "id": "Q_eeur0CAjO5"
      }
    },
    {
      "cell_type": "code",
      "source": [
        "def get_completion(prompt, model=\"gpt-3.5-turbo\"):\n",
        "    messages = [{\"role\": \"user\", \"content\": prompt}]\n",
        "    response = openai.ChatCompletion.create(\n",
        "        model=model,\n",
        "        messages=messages,\n",
        "        temperature=0, # this is the degree of randomness of the model's output\n",
        "    )\n",
        "    return response.choices[0].message[\"content\"]\n",
        "\n",
        "def get_completion_from_messages(messages, model=\"gpt-3.5-turbo\", temperature=0):\n",
        "    response = openai.ChatCompletion.create(\n",
        "        model=model,\n",
        "        messages=messages,\n",
        "        temperature=temperature, # this is the degree of randomness of the model's output\n",
        "    )\n",
        "#     print(str(response.choices[0].message))\n",
        "    return response.choices[0].message[\"content\"]"
      ],
      "metadata": {
        "id": "fzmozC-O_3q1"
      },
      "execution_count": 40,
      "outputs": []
    },
    {
      "cell_type": "code",
      "source": [
        "messages =  [  \n",
        "{'role':'system', 'content':'You are an assistant that speaks like Shakespeare.'},    \n",
        "{'role':'user', 'content':'tell me a joke'},   \n",
        "{'role':'assistant', 'content':'Why did the chicken cross the road'},   \n",
        "{'role':'user', 'content':'I don\\'t know'}  ]"
      ],
      "metadata": {
        "id": "IqhsOrN5_9es"
      },
      "execution_count": 41,
      "outputs": []
    },
    {
      "cell_type": "code",
      "source": [
        "response = get_completion_from_messages(messages, temperature=1)\n",
        "print(response)"
      ],
      "metadata": {
        "colab": {
          "base_uri": "https://localhost:8080/"
        },
        "id": "P0TQRExlABx6",
        "outputId": "03995ac9-70f4-4e49-ba4b-b4440c10abba"
      },
      "execution_count": 42,
      "outputs": [
        {
          "output_type": "stream",
          "name": "stdout",
          "text": [
            "To get to the other side, my lord.\n"
          ]
        }
      ]
    },
    {
      "cell_type": "code",
      "source": [
        "messages =  [  \n",
        "{'role':'system', 'content':'You are friendly chatbot.'},    \n",
        "{'role':'user', 'content':'Hi, my name is Isa'}  ]\n",
        "response = get_completion_from_messages(messages, temperature=1)\n",
        "print(response)"
      ],
      "metadata": {
        "colab": {
          "base_uri": "https://localhost:8080/"
        },
        "id": "9PLhZ5-vAEVH",
        "outputId": "fe98774c-f6e3-4b4a-ebf0-b7cc730b5966"
      },
      "execution_count": 43,
      "outputs": [
        {
          "output_type": "stream",
          "name": "stdout",
          "text": [
            "Hi Isa! It's nice to meet you. How may I assist you today?\n"
          ]
        }
      ]
    },
    {
      "cell_type": "code",
      "source": [
        "messages =  [  \n",
        "{'role':'system', 'content':'You are friendly chatbot.'},    \n",
        "{'role':'user', 'content':'Yes,  can you remind me, What is my name?'}  ]\n",
        "response = get_completion_from_messages(messages, temperature=1)\n",
        "print(response)"
      ],
      "metadata": {
        "colab": {
          "base_uri": "https://localhost:8080/"
        },
        "id": "vzYM2yHlAIIM",
        "outputId": "d3bca68a-259c-47c2-cb86-c399bef07ede"
      },
      "execution_count": 44,
      "outputs": [
        {
          "output_type": "stream",
          "name": "stdout",
          "text": [
            "I'm sorry, but I don't have access to that information. Could you please tell me your name?\n"
          ]
        }
      ]
    },
    {
      "cell_type": "code",
      "source": [
        "messages =  [  \n",
        "{'role':'system', 'content':'You are friendly chatbot.'},\n",
        "{'role':'user', 'content':'Hi, my name is Isa'},\n",
        "{'role':'assistant', 'content': \"Hi Isa! It's nice to meet you. \\\n",
        "Is there anything I can help you with today?\"},\n",
        "{'role':'user', 'content':'Yes, you can remind me, What is my name?'}  ]\n",
        "response = get_completion_from_messages(messages, temperature=1)\n",
        "print(response)"
      ],
      "metadata": {
        "colab": {
          "base_uri": "https://localhost:8080/"
        },
        "id": "y4jd8VVsAO90",
        "outputId": "3fdca5b2-8f4c-46cc-e3e0-a464bd70a69a"
      },
      "execution_count": 45,
      "outputs": [
        {
          "output_type": "stream",
          "name": "stdout",
          "text": [
            "Your name is Isa.\n"
          ]
        }
      ]
    },
    {
      "cell_type": "markdown",
      "source": [
        "# OrderBot\n",
        "We can automate the collection of user prompts and assistant responses to build a  OrderBot. The OrderBot will take orders at a pizza restaurant. "
      ],
      "metadata": {
        "id": "eODZM07wAcu6"
      }
    },
    {
      "cell_type": "code",
      "source": [
        "import panel as pn  # GUI\n",
        "pn.extension()"
      ],
      "metadata": {
        "colab": {
          "base_uri": "https://localhost:8080/",
          "height": 17
        },
        "id": "ZJXLH0qFA0Rx",
        "outputId": "509ae0d8-40db-4b77-a930-2027e5396d2e"
      },
      "execution_count": 47,
      "outputs": [
        {
          "output_type": "display_data",
          "data": {
            "application/javascript": [
              "(function(root) {\n",
              "  function now() {\n",
              "    return new Date();\n",
              "  }\n",
              "\n",
              "  var force = true;\n",
              "\n",
              "  if (typeof root._bokeh_onload_callbacks === \"undefined\" || force === true) {\n",
              "    root._bokeh_onload_callbacks = [];\n",
              "    root._bokeh_is_loading = undefined;\n",
              "  }\n",
              "\n",
              "  if (typeof (root._bokeh_timeout) === \"undefined\" || force === true) {\n",
              "    root._bokeh_timeout = Date.now() + 5000;\n",
              "    root._bokeh_failed_load = false;\n",
              "  }\n",
              "\n",
              "  function run_callbacks() {\n",
              "    try {\n",
              "      root._bokeh_onload_callbacks.forEach(function(callback) {\n",
              "        if (callback != null)\n",
              "          callback();\n",
              "      });\n",
              "    } finally {\n",
              "      delete root._bokeh_onload_callbacks\n",
              "    }\n",
              "    console.debug(\"Bokeh: all callbacks have finished\");\n",
              "  }\n",
              "\n",
              "  function load_libs(css_urls, js_urls, js_modules, callback) {\n",
              "    if (css_urls == null) css_urls = [];\n",
              "    if (js_urls == null) js_urls = [];\n",
              "    if (js_modules == null) js_modules = [];\n",
              "\n",
              "    root._bokeh_onload_callbacks.push(callback);\n",
              "    if (root._bokeh_is_loading > 0) {\n",
              "      console.debug(\"Bokeh: BokehJS is being loaded, scheduling callback at\", now());\n",
              "      return null;\n",
              "    }\n",
              "    if (js_urls.length === 0 && js_modules.length === 0) {\n",
              "      run_callbacks();\n",
              "      return null;\n",
              "    }\n",
              "    console.debug(\"Bokeh: BokehJS not loaded, scheduling load and callback at\", now());\n",
              "\n",
              "    function on_load() {\n",
              "      root._bokeh_is_loading--;\n",
              "      if (root._bokeh_is_loading === 0) {\n",
              "        console.debug(\"Bokeh: all BokehJS libraries/stylesheets loaded\");\n",
              "        run_callbacks()\n",
              "      }\n",
              "    }\n",
              "\n",
              "    function on_error() {\n",
              "      console.error(\"failed to load \" + url);\n",
              "    }\n",
              "\n",
              "    for (var i = 0; i < css_urls.length; i++) {\n",
              "      var url = css_urls[i];\n",
              "      const element = document.createElement(\"link\");\n",
              "      element.onload = on_load;\n",
              "      element.onerror = on_error;\n",
              "      element.rel = \"stylesheet\";\n",
              "      element.type = \"text/css\";\n",
              "      element.href = url;\n",
              "      console.debug(\"Bokeh: injecting link tag for BokehJS stylesheet: \", url);\n",
              "      document.body.appendChild(element);\n",
              "    }\n",
              "\n",
              "    var skip = [];\n",
              "    if (window.requirejs) {\n",
              "      window.requirejs.config({'packages': {}, 'paths': {'gridstack': 'https://cdn.jsdelivr.net/npm/gridstack@4.2.5/dist/gridstack-h5', 'notyf': 'https://cdn.jsdelivr.net/npm/notyf@3/notyf.min'}, 'shim': {'gridstack': {'exports': 'GridStack'}}});\n",
              "      require([\"gridstack\"], function(GridStack) {\n",
              "\twindow.GridStack = GridStack\n",
              "\ton_load()\n",
              "      })\n",
              "      require([\"notyf\"], function() {\n",
              "\ton_load()\n",
              "      })\n",
              "      root._bokeh_is_loading = css_urls.length + 2;\n",
              "    } else {\n",
              "      root._bokeh_is_loading = css_urls.length + js_urls.length + js_modules.length;\n",
              "    }    if (((window['GridStack'] !== undefined) && (!(window['GridStack'] instanceof HTMLElement))) || window.requirejs) {\n",
              "      var urls = ['https://cdn.holoviz.org/panel/0.14.4/dist/bundled/gridstack/gridstack@4.2.5/dist/gridstack-h5.js'];\n",
              "      for (var i = 0; i < urls.length; i++) {\n",
              "        skip.push(urls[i])\n",
              "      }\n",
              "    }    if (((window['Notyf'] !== undefined) && (!(window['Notyf'] instanceof HTMLElement))) || window.requirejs) {\n",
              "      var urls = ['https://cdn.holoviz.org/panel/0.14.4/dist/bundled/notificationarea/notyf@3/notyf.min.js'];\n",
              "      for (var i = 0; i < urls.length; i++) {\n",
              "        skip.push(urls[i])\n",
              "      }\n",
              "    }    for (var i = 0; i < js_urls.length; i++) {\n",
              "      var url = js_urls[i];\n",
              "      if (skip.indexOf(url) >= 0) {\n",
              "\tif (!window.requirejs) {\n",
              "\t  on_load();\n",
              "\t}\n",
              "\tcontinue;\n",
              "      }\n",
              "      var element = document.createElement('script');\n",
              "      element.onload = on_load;\n",
              "      element.onerror = on_error;\n",
              "      element.async = false;\n",
              "      element.src = url;\n",
              "      console.debug(\"Bokeh: injecting script tag for BokehJS library: \", url);\n",
              "      document.head.appendChild(element);\n",
              "    }\n",
              "    for (var i = 0; i < js_modules.length; i++) {\n",
              "      var url = js_modules[i];\n",
              "      if (skip.indexOf(url) >= 0) {\n",
              "\tif (!window.requirejs) {\n",
              "\t  on_load();\n",
              "\t}\n",
              "\tcontinue;\n",
              "      }\n",
              "      var element = document.createElement('script');\n",
              "      element.onload = on_load;\n",
              "      element.onerror = on_error;\n",
              "      element.async = false;\n",
              "      element.src = url;\n",
              "      element.type = \"module\";\n",
              "      console.debug(\"Bokeh: injecting script tag for BokehJS library: \", url);\n",
              "      document.head.appendChild(element);\n",
              "    }\n",
              "    if (!js_urls.length && !js_modules.length) {\n",
              "      on_load()\n",
              "    }\n",
              "  };\n",
              "\n",
              "  function inject_raw_css(css) {\n",
              "    const element = document.createElement(\"style\");\n",
              "    element.appendChild(document.createTextNode(css));\n",
              "    document.body.appendChild(element);\n",
              "  }\n",
              "\n",
              "  var js_urls = [\"https://cdn.bokeh.org/bokeh/release/bokeh-2.4.3.min.js\", \"https://cdn.bokeh.org/bokeh/release/bokeh-gl-2.4.3.min.js\", \"https://cdn.bokeh.org/bokeh/release/bokeh-widgets-2.4.3.min.js\", \"https://cdn.bokeh.org/bokeh/release/bokeh-tables-2.4.3.min.js\", \"https://cdn.bokeh.org/bokeh/release/bokeh-mathjax-2.4.3.min.js\", \"https://unpkg.com/@holoviz/panel@0.14.4/dist/panel.min.js\"];\n",
              "  var js_modules = [];\n",
              "  var css_urls = [\"https://cdn.holoviz.org/panel/0.14.4/dist/css/dataframe.css\", \"https://cdn.holoviz.org/panel/0.14.4/dist/css/widgets.css\", \"https://cdn.holoviz.org/panel/0.14.4/dist/css/debugger.css\", \"https://cdn.holoviz.org/panel/0.14.4/dist/css/card.css\", \"https://cdn.holoviz.org/panel/0.14.4/dist/css/alerts.css\", \"https://cdn.holoviz.org/panel/0.14.4/dist/css/json.css\", \"https://cdn.holoviz.org/panel/0.14.4/dist/css/markdown.css\", \"https://cdn.holoviz.org/panel/0.14.4/dist/css/loading.css\"];\n",
              "  var inline_js = [    function(Bokeh) {\n",
              "      inject_raw_css(\"\\n    .bk.pn-loading.arc:before {\\n      background-image: url(\\\"data:image/svg+xml;base64,PHN2ZyB4bWxucz0iaHR0cDovL3d3dy53My5vcmcvMjAwMC9zdmciIHN0eWxlPSJtYXJnaW46IGF1dG87IGJhY2tncm91bmQ6IG5vbmU7IGRpc3BsYXk6IGJsb2NrOyBzaGFwZS1yZW5kZXJpbmc6IGF1dG87IiB2aWV3Qm94PSIwIDAgMTAwIDEwMCIgcHJlc2VydmVBc3BlY3RSYXRpbz0ieE1pZFlNaWQiPiAgPGNpcmNsZSBjeD0iNTAiIGN5PSI1MCIgZmlsbD0ibm9uZSIgc3Ryb2tlPSIjYzNjM2MzIiBzdHJva2Utd2lkdGg9IjEwIiByPSIzNSIgc3Ryb2tlLWRhc2hhcnJheT0iMTY0LjkzMzYxNDMxMzQ2NDE1IDU2Ljk3Nzg3MTQzNzgyMTM4Ij4gICAgPGFuaW1hdGVUcmFuc2Zvcm0gYXR0cmlidXRlTmFtZT0idHJhbnNmb3JtIiB0eXBlPSJyb3RhdGUiIHJlcGVhdENvdW50PSJpbmRlZmluaXRlIiBkdXI9IjFzIiB2YWx1ZXM9IjAgNTAgNTA7MzYwIDUwIDUwIiBrZXlUaW1lcz0iMDsxIj48L2FuaW1hdGVUcmFuc2Zvcm0+ICA8L2NpcmNsZT48L3N2Zz4=\\\");\\n      background-size: auto calc(min(50%, 400px));\\n    }\\n    \");\n",
              "    },    function(Bokeh) {\n",
              "      Bokeh.set_log_level(\"info\");\n",
              "    },\n",
              "function(Bokeh) {} // ensure no trailing comma for IE\n",
              "  ];\n",
              "\n",
              "  function run_inline_js() {\n",
              "    if ((root.Bokeh !== undefined) || (force === true)) {\n",
              "      for (var i = 0; i < inline_js.length; i++) {\n",
              "        inline_js[i].call(root, root.Bokeh);\n",
              "      }} else if (Date.now() < root._bokeh_timeout) {\n",
              "      setTimeout(run_inline_js, 100);\n",
              "    } else if (!root._bokeh_failed_load) {\n",
              "      console.log(\"Bokeh: BokehJS failed to load within specified timeout.\");\n",
              "      root._bokeh_failed_load = true;\n",
              "    }\n",
              "  }\n",
              "\n",
              "  if (root._bokeh_is_loading === 0) {\n",
              "    console.debug(\"Bokeh: BokehJS loaded, going straight to plotting\");\n",
              "    run_inline_js();\n",
              "  } else {\n",
              "    load_libs(css_urls, js_urls, js_modules, function() {\n",
              "      console.debug(\"Bokeh: BokehJS plotting callback run at\", now());\n",
              "      run_inline_js();\n",
              "    });\n",
              "  }\n",
              "}(window));"
            ],
            "application/vnd.holoviews_load.v0+json": "(function(root) {\n  function now() {\n    return new Date();\n  }\n\n  var force = true;\n\n  if (typeof root._bokeh_onload_callbacks === \"undefined\" || force === true) {\n    root._bokeh_onload_callbacks = [];\n    root._bokeh_is_loading = undefined;\n  }\n\n  if (typeof (root._bokeh_timeout) === \"undefined\" || force === true) {\n    root._bokeh_timeout = Date.now() + 5000;\n    root._bokeh_failed_load = false;\n  }\n\n  function run_callbacks() {\n    try {\n      root._bokeh_onload_callbacks.forEach(function(callback) {\n        if (callback != null)\n          callback();\n      });\n    } finally {\n      delete root._bokeh_onload_callbacks\n    }\n    console.debug(\"Bokeh: all callbacks have finished\");\n  }\n\n  function load_libs(css_urls, js_urls, js_modules, callback) {\n    if (css_urls == null) css_urls = [];\n    if (js_urls == null) js_urls = [];\n    if (js_modules == null) js_modules = [];\n\n    root._bokeh_onload_callbacks.push(callback);\n    if (root._bokeh_is_loading > 0) {\n      console.debug(\"Bokeh: BokehJS is being loaded, scheduling callback at\", now());\n      return null;\n    }\n    if (js_urls.length === 0 && js_modules.length === 0) {\n      run_callbacks();\n      return null;\n    }\n    console.debug(\"Bokeh: BokehJS not loaded, scheduling load and callback at\", now());\n\n    function on_load() {\n      root._bokeh_is_loading--;\n      if (root._bokeh_is_loading === 0) {\n        console.debug(\"Bokeh: all BokehJS libraries/stylesheets loaded\");\n        run_callbacks()\n      }\n    }\n\n    function on_error() {\n      console.error(\"failed to load \" + url);\n    }\n\n    for (var i = 0; i < css_urls.length; i++) {\n      var url = css_urls[i];\n      const element = document.createElement(\"link\");\n      element.onload = on_load;\n      element.onerror = on_error;\n      element.rel = \"stylesheet\";\n      element.type = \"text/css\";\n      element.href = url;\n      console.debug(\"Bokeh: injecting link tag for BokehJS stylesheet: \", url);\n      document.body.appendChild(element);\n    }\n\n    var skip = [];\n    if (window.requirejs) {\n      window.requirejs.config({'packages': {}, 'paths': {'gridstack': 'https://cdn.jsdelivr.net/npm/gridstack@4.2.5/dist/gridstack-h5', 'notyf': 'https://cdn.jsdelivr.net/npm/notyf@3/notyf.min'}, 'shim': {'gridstack': {'exports': 'GridStack'}}});\n      require([\"gridstack\"], function(GridStack) {\n\twindow.GridStack = GridStack\n\ton_load()\n      })\n      require([\"notyf\"], function() {\n\ton_load()\n      })\n      root._bokeh_is_loading = css_urls.length + 2;\n    } else {\n      root._bokeh_is_loading = css_urls.length + js_urls.length + js_modules.length;\n    }    if (((window['GridStack'] !== undefined) && (!(window['GridStack'] instanceof HTMLElement))) || window.requirejs) {\n      var urls = ['https://cdn.holoviz.org/panel/0.14.4/dist/bundled/gridstack/gridstack@4.2.5/dist/gridstack-h5.js'];\n      for (var i = 0; i < urls.length; i++) {\n        skip.push(urls[i])\n      }\n    }    if (((window['Notyf'] !== undefined) && (!(window['Notyf'] instanceof HTMLElement))) || window.requirejs) {\n      var urls = ['https://cdn.holoviz.org/panel/0.14.4/dist/bundled/notificationarea/notyf@3/notyf.min.js'];\n      for (var i = 0; i < urls.length; i++) {\n        skip.push(urls[i])\n      }\n    }    for (var i = 0; i < js_urls.length; i++) {\n      var url = js_urls[i];\n      if (skip.indexOf(url) >= 0) {\n\tif (!window.requirejs) {\n\t  on_load();\n\t}\n\tcontinue;\n      }\n      var element = document.createElement('script');\n      element.onload = on_load;\n      element.onerror = on_error;\n      element.async = false;\n      element.src = url;\n      console.debug(\"Bokeh: injecting script tag for BokehJS library: \", url);\n      document.head.appendChild(element);\n    }\n    for (var i = 0; i < js_modules.length; i++) {\n      var url = js_modules[i];\n      if (skip.indexOf(url) >= 0) {\n\tif (!window.requirejs) {\n\t  on_load();\n\t}\n\tcontinue;\n      }\n      var element = document.createElement('script');\n      element.onload = on_load;\n      element.onerror = on_error;\n      element.async = false;\n      element.src = url;\n      element.type = \"module\";\n      console.debug(\"Bokeh: injecting script tag for BokehJS library: \", url);\n      document.head.appendChild(element);\n    }\n    if (!js_urls.length && !js_modules.length) {\n      on_load()\n    }\n  };\n\n  function inject_raw_css(css) {\n    const element = document.createElement(\"style\");\n    element.appendChild(document.createTextNode(css));\n    document.body.appendChild(element);\n  }\n\n  var js_urls = [\"https://cdn.bokeh.org/bokeh/release/bokeh-2.4.3.min.js\", \"https://cdn.bokeh.org/bokeh/release/bokeh-gl-2.4.3.min.js\", \"https://cdn.bokeh.org/bokeh/release/bokeh-widgets-2.4.3.min.js\", \"https://cdn.bokeh.org/bokeh/release/bokeh-tables-2.4.3.min.js\", \"https://cdn.bokeh.org/bokeh/release/bokeh-mathjax-2.4.3.min.js\", \"https://unpkg.com/@holoviz/panel@0.14.4/dist/panel.min.js\"];\n  var js_modules = [];\n  var css_urls = [\"https://cdn.holoviz.org/panel/0.14.4/dist/css/dataframe.css\", \"https://cdn.holoviz.org/panel/0.14.4/dist/css/widgets.css\", \"https://cdn.holoviz.org/panel/0.14.4/dist/css/debugger.css\", \"https://cdn.holoviz.org/panel/0.14.4/dist/css/card.css\", \"https://cdn.holoviz.org/panel/0.14.4/dist/css/alerts.css\", \"https://cdn.holoviz.org/panel/0.14.4/dist/css/json.css\", \"https://cdn.holoviz.org/panel/0.14.4/dist/css/markdown.css\", \"https://cdn.holoviz.org/panel/0.14.4/dist/css/loading.css\"];\n  var inline_js = [    function(Bokeh) {\n      inject_raw_css(\"\\n    .bk.pn-loading.arc:before {\\n      background-image: url(\\\"data:image/svg+xml;base64,PHN2ZyB4bWxucz0iaHR0cDovL3d3dy53My5vcmcvMjAwMC9zdmciIHN0eWxlPSJtYXJnaW46IGF1dG87IGJhY2tncm91bmQ6IG5vbmU7IGRpc3BsYXk6IGJsb2NrOyBzaGFwZS1yZW5kZXJpbmc6IGF1dG87IiB2aWV3Qm94PSIwIDAgMTAwIDEwMCIgcHJlc2VydmVBc3BlY3RSYXRpbz0ieE1pZFlNaWQiPiAgPGNpcmNsZSBjeD0iNTAiIGN5PSI1MCIgZmlsbD0ibm9uZSIgc3Ryb2tlPSIjYzNjM2MzIiBzdHJva2Utd2lkdGg9IjEwIiByPSIzNSIgc3Ryb2tlLWRhc2hhcnJheT0iMTY0LjkzMzYxNDMxMzQ2NDE1IDU2Ljk3Nzg3MTQzNzgyMTM4Ij4gICAgPGFuaW1hdGVUcmFuc2Zvcm0gYXR0cmlidXRlTmFtZT0idHJhbnNmb3JtIiB0eXBlPSJyb3RhdGUiIHJlcGVhdENvdW50PSJpbmRlZmluaXRlIiBkdXI9IjFzIiB2YWx1ZXM9IjAgNTAgNTA7MzYwIDUwIDUwIiBrZXlUaW1lcz0iMDsxIj48L2FuaW1hdGVUcmFuc2Zvcm0+ICA8L2NpcmNsZT48L3N2Zz4=\\\");\\n      background-size: auto calc(min(50%, 400px));\\n    }\\n    \");\n    },    function(Bokeh) {\n      Bokeh.set_log_level(\"info\");\n    },\nfunction(Bokeh) {} // ensure no trailing comma for IE\n  ];\n\n  function run_inline_js() {\n    if ((root.Bokeh !== undefined) || (force === true)) {\n      for (var i = 0; i < inline_js.length; i++) {\n        inline_js[i].call(root, root.Bokeh);\n      }} else if (Date.now() < root._bokeh_timeout) {\n      setTimeout(run_inline_js, 100);\n    } else if (!root._bokeh_failed_load) {\n      console.log(\"Bokeh: BokehJS failed to load within specified timeout.\");\n      root._bokeh_failed_load = true;\n    }\n  }\n\n  if (root._bokeh_is_loading === 0) {\n    console.debug(\"Bokeh: BokehJS loaded, going straight to plotting\");\n    run_inline_js();\n  } else {\n    load_libs(css_urls, js_urls, js_modules, function() {\n      console.debug(\"Bokeh: BokehJS plotting callback run at\", now());\n      run_inline_js();\n    });\n  }\n}(window));"
          },
          "metadata": {}
        },
        {
          "output_type": "display_data",
          "data": {
            "application/vnd.holoviews_load.v0+json": "\nif ((window.PyViz === undefined) || (window.PyViz instanceof HTMLElement)) {\n  window.PyViz = {comms: {}, comm_status:{}, kernels:{}, receivers: {}, plot_index: []}\n}\n\n\n    function JupyterCommManager() {\n    }\n\n    JupyterCommManager.prototype.register_target = function(plot_id, comm_id, msg_handler) {\n      if (window.comm_manager || ((window.Jupyter !== undefined) && (Jupyter.notebook.kernel != null))) {\n        var comm_manager = window.comm_manager || Jupyter.notebook.kernel.comm_manager;\n        comm_manager.register_target(comm_id, function(comm) {\n          comm.on_msg(msg_handler);\n        });\n      } else if ((plot_id in window.PyViz.kernels) && (window.PyViz.kernels[plot_id])) {\n        window.PyViz.kernels[plot_id].registerCommTarget(comm_id, function(comm) {\n          comm.onMsg = msg_handler;\n        });\n      } else if (typeof google != 'undefined' && google.colab.kernel != null) {\n        google.colab.kernel.comms.registerTarget(comm_id, (comm) => {\n          var messages = comm.messages[Symbol.asyncIterator]();\n          function processIteratorResult(result) {\n            var message = result.value;\n            console.log(message)\n            var content = {data: message.data, comm_id};\n            var buffers = []\n            for (var buffer of message.buffers || []) {\n              buffers.push(new DataView(buffer))\n            }\n            var metadata = message.metadata || {};\n            var msg = {content, buffers, metadata}\n            msg_handler(msg);\n            return messages.next().then(processIteratorResult);\n          }\n          return messages.next().then(processIteratorResult);\n        })\n      }\n    }\n\n    JupyterCommManager.prototype.get_client_comm = function(plot_id, comm_id, msg_handler) {\n      if (comm_id in window.PyViz.comms) {\n        return window.PyViz.comms[comm_id];\n      } else if (window.comm_manager || ((window.Jupyter !== undefined) && (Jupyter.notebook.kernel != null))) {\n        var comm_manager = window.comm_manager || Jupyter.notebook.kernel.comm_manager;\n        var comm = comm_manager.new_comm(comm_id, {}, {}, {}, comm_id);\n        if (msg_handler) {\n          comm.on_msg(msg_handler);\n        }\n      } else if ((plot_id in window.PyViz.kernels) && (window.PyViz.kernels[plot_id])) {\n        var comm = window.PyViz.kernels[plot_id].connectToComm(comm_id);\n        comm.open();\n        if (msg_handler) {\n          comm.onMsg = msg_handler;\n        }\n      } else if (typeof google != 'undefined' && google.colab.kernel != null) {\n        var comm_promise = google.colab.kernel.comms.open(comm_id)\n        comm_promise.then((comm) => {\n          window.PyViz.comms[comm_id] = comm;\n          if (msg_handler) {\n            var messages = comm.messages[Symbol.asyncIterator]();\n            function processIteratorResult(result) {\n              var message = result.value;\n              var content = {data: message.data};\n              var metadata = message.metadata || {comm_id};\n              var msg = {content, metadata}\n              msg_handler(msg);\n              return messages.next().then(processIteratorResult);\n            }\n            return messages.next().then(processIteratorResult);\n          }\n        }) \n        var sendClosure = (data, metadata, buffers, disposeOnDone) => {\n          return comm_promise.then((comm) => {\n            comm.send(data, metadata, buffers, disposeOnDone);\n          });\n        };\n        var comm = {\n          send: sendClosure\n        };\n      }\n      window.PyViz.comms[comm_id] = comm;\n      return comm;\n    }\n    window.PyViz.comm_manager = new JupyterCommManager();\n    \n\n\nvar JS_MIME_TYPE = 'application/javascript';\nvar HTML_MIME_TYPE = 'text/html';\nvar EXEC_MIME_TYPE = 'application/vnd.holoviews_exec.v0+json';\nvar CLASS_NAME = 'output';\n\n/**\n * Render data to the DOM node\n */\nfunction render(props, node) {\n  var div = document.createElement(\"div\");\n  var script = document.createElement(\"script\");\n  node.appendChild(div);\n  node.appendChild(script);\n}\n\n/**\n * Handle when a new output is added\n */\nfunction handle_add_output(event, handle) {\n  var output_area = handle.output_area;\n  var output = handle.output;\n  if ((output.data == undefined) || (!output.data.hasOwnProperty(EXEC_MIME_TYPE))) {\n    return\n  }\n  var id = output.metadata[EXEC_MIME_TYPE][\"id\"];\n  var toinsert = output_area.element.find(\".\" + CLASS_NAME.split(' ')[0]);\n  if (id !== undefined) {\n    var nchildren = toinsert.length;\n    var html_node = toinsert[nchildren-1].children[0];\n    html_node.innerHTML = output.data[HTML_MIME_TYPE];\n    var scripts = [];\n    var nodelist = html_node.querySelectorAll(\"script\");\n    for (var i in nodelist) {\n      if (nodelist.hasOwnProperty(i)) {\n        scripts.push(nodelist[i])\n      }\n    }\n\n    scripts.forEach( function (oldScript) {\n      var newScript = document.createElement(\"script\");\n      var attrs = [];\n      var nodemap = oldScript.attributes;\n      for (var j in nodemap) {\n        if (nodemap.hasOwnProperty(j)) {\n          attrs.push(nodemap[j])\n        }\n      }\n      attrs.forEach(function(attr) { newScript.setAttribute(attr.name, attr.value) });\n      newScript.appendChild(document.createTextNode(oldScript.innerHTML));\n      oldScript.parentNode.replaceChild(newScript, oldScript);\n    });\n    if (JS_MIME_TYPE in output.data) {\n      toinsert[nchildren-1].children[1].textContent = output.data[JS_MIME_TYPE];\n    }\n    output_area._hv_plot_id = id;\n    if ((window.Bokeh !== undefined) && (id in Bokeh.index)) {\n      window.PyViz.plot_index[id] = Bokeh.index[id];\n    } else {\n      window.PyViz.plot_index[id] = null;\n    }\n  } else if (output.metadata[EXEC_MIME_TYPE][\"server_id\"] !== undefined) {\n    var bk_div = document.createElement(\"div\");\n    bk_div.innerHTML = output.data[HTML_MIME_TYPE];\n    var script_attrs = bk_div.children[0].attributes;\n    for (var i = 0; i < script_attrs.length; i++) {\n      toinsert[toinsert.length - 1].childNodes[1].setAttribute(script_attrs[i].name, script_attrs[i].value);\n    }\n    // store reference to server id on output_area\n    output_area._bokeh_server_id = output.metadata[EXEC_MIME_TYPE][\"server_id\"];\n  }\n}\n\n/**\n * Handle when an output is cleared or removed\n */\nfunction handle_clear_output(event, handle) {\n  var id = handle.cell.output_area._hv_plot_id;\n  var server_id = handle.cell.output_area._bokeh_server_id;\n  if (((id === undefined) || !(id in PyViz.plot_index)) && (server_id !== undefined)) { return; }\n  var comm = window.PyViz.comm_manager.get_client_comm(\"hv-extension-comm\", \"hv-extension-comm\", function () {});\n  if (server_id !== null) {\n    comm.send({event_type: 'server_delete', 'id': server_id});\n    return;\n  } else if (comm !== null) {\n    comm.send({event_type: 'delete', 'id': id});\n  }\n  delete PyViz.plot_index[id];\n  if ((window.Bokeh !== undefined) & (id in window.Bokeh.index)) {\n    var doc = window.Bokeh.index[id].model.document\n    doc.clear();\n    const i = window.Bokeh.documents.indexOf(doc);\n    if (i > -1) {\n      window.Bokeh.documents.splice(i, 1);\n    }\n  }\n}\n\n/**\n * Handle kernel restart event\n */\nfunction handle_kernel_cleanup(event, handle) {\n  delete PyViz.comms[\"hv-extension-comm\"];\n  window.PyViz.plot_index = {}\n}\n\n/**\n * Handle update_display_data messages\n */\nfunction handle_update_output(event, handle) {\n  handle_clear_output(event, {cell: {output_area: handle.output_area}})\n  handle_add_output(event, handle)\n}\n\nfunction register_renderer(events, OutputArea) {\n  function append_mime(data, metadata, element) {\n    // create a DOM node to render to\n    var toinsert = this.create_output_subarea(\n    metadata,\n    CLASS_NAME,\n    EXEC_MIME_TYPE\n    );\n    this.keyboard_manager.register_events(toinsert);\n    // Render to node\n    var props = {data: data, metadata: metadata[EXEC_MIME_TYPE]};\n    render(props, toinsert[0]);\n    element.append(toinsert);\n    return toinsert\n  }\n\n  events.on('output_added.OutputArea', handle_add_output);\n  events.on('output_updated.OutputArea', handle_update_output);\n  events.on('clear_output.CodeCell', handle_clear_output);\n  events.on('delete.Cell', handle_clear_output);\n  events.on('kernel_ready.Kernel', handle_kernel_cleanup);\n\n  OutputArea.prototype.register_mime_type(EXEC_MIME_TYPE, append_mime, {\n    safe: true,\n    index: 0\n  });\n}\n\nif (window.Jupyter !== undefined) {\n  try {\n    var events = require('base/js/events');\n    var OutputArea = require('notebook/js/outputarea').OutputArea;\n    if (OutputArea.prototype.mime_types().indexOf(EXEC_MIME_TYPE) == -1) {\n      register_renderer(events, OutputArea);\n    }\n  } catch(err) {\n  }\n}\n",
            "application/javascript": [
              "\n",
              "if ((window.PyViz === undefined) || (window.PyViz instanceof HTMLElement)) {\n",
              "  window.PyViz = {comms: {}, comm_status:{}, kernels:{}, receivers: {}, plot_index: []}\n",
              "}\n",
              "\n",
              "\n",
              "    function JupyterCommManager() {\n",
              "    }\n",
              "\n",
              "    JupyterCommManager.prototype.register_target = function(plot_id, comm_id, msg_handler) {\n",
              "      if (window.comm_manager || ((window.Jupyter !== undefined) && (Jupyter.notebook.kernel != null))) {\n",
              "        var comm_manager = window.comm_manager || Jupyter.notebook.kernel.comm_manager;\n",
              "        comm_manager.register_target(comm_id, function(comm) {\n",
              "          comm.on_msg(msg_handler);\n",
              "        });\n",
              "      } else if ((plot_id in window.PyViz.kernels) && (window.PyViz.kernels[plot_id])) {\n",
              "        window.PyViz.kernels[plot_id].registerCommTarget(comm_id, function(comm) {\n",
              "          comm.onMsg = msg_handler;\n",
              "        });\n",
              "      } else if (typeof google != 'undefined' && google.colab.kernel != null) {\n",
              "        google.colab.kernel.comms.registerTarget(comm_id, (comm) => {\n",
              "          var messages = comm.messages[Symbol.asyncIterator]();\n",
              "          function processIteratorResult(result) {\n",
              "            var message = result.value;\n",
              "            console.log(message)\n",
              "            var content = {data: message.data, comm_id};\n",
              "            var buffers = []\n",
              "            for (var buffer of message.buffers || []) {\n",
              "              buffers.push(new DataView(buffer))\n",
              "            }\n",
              "            var metadata = message.metadata || {};\n",
              "            var msg = {content, buffers, metadata}\n",
              "            msg_handler(msg);\n",
              "            return messages.next().then(processIteratorResult);\n",
              "          }\n",
              "          return messages.next().then(processIteratorResult);\n",
              "        })\n",
              "      }\n",
              "    }\n",
              "\n",
              "    JupyterCommManager.prototype.get_client_comm = function(plot_id, comm_id, msg_handler) {\n",
              "      if (comm_id in window.PyViz.comms) {\n",
              "        return window.PyViz.comms[comm_id];\n",
              "      } else if (window.comm_manager || ((window.Jupyter !== undefined) && (Jupyter.notebook.kernel != null))) {\n",
              "        var comm_manager = window.comm_manager || Jupyter.notebook.kernel.comm_manager;\n",
              "        var comm = comm_manager.new_comm(comm_id, {}, {}, {}, comm_id);\n",
              "        if (msg_handler) {\n",
              "          comm.on_msg(msg_handler);\n",
              "        }\n",
              "      } else if ((plot_id in window.PyViz.kernels) && (window.PyViz.kernels[plot_id])) {\n",
              "        var comm = window.PyViz.kernels[plot_id].connectToComm(comm_id);\n",
              "        comm.open();\n",
              "        if (msg_handler) {\n",
              "          comm.onMsg = msg_handler;\n",
              "        }\n",
              "      } else if (typeof google != 'undefined' && google.colab.kernel != null) {\n",
              "        var comm_promise = google.colab.kernel.comms.open(comm_id)\n",
              "        comm_promise.then((comm) => {\n",
              "          window.PyViz.comms[comm_id] = comm;\n",
              "          if (msg_handler) {\n",
              "            var messages = comm.messages[Symbol.asyncIterator]();\n",
              "            function processIteratorResult(result) {\n",
              "              var message = result.value;\n",
              "              var content = {data: message.data};\n",
              "              var metadata = message.metadata || {comm_id};\n",
              "              var msg = {content, metadata}\n",
              "              msg_handler(msg);\n",
              "              return messages.next().then(processIteratorResult);\n",
              "            }\n",
              "            return messages.next().then(processIteratorResult);\n",
              "          }\n",
              "        }) \n",
              "        var sendClosure = (data, metadata, buffers, disposeOnDone) => {\n",
              "          return comm_promise.then((comm) => {\n",
              "            comm.send(data, metadata, buffers, disposeOnDone);\n",
              "          });\n",
              "        };\n",
              "        var comm = {\n",
              "          send: sendClosure\n",
              "        };\n",
              "      }\n",
              "      window.PyViz.comms[comm_id] = comm;\n",
              "      return comm;\n",
              "    }\n",
              "    window.PyViz.comm_manager = new JupyterCommManager();\n",
              "    \n",
              "\n",
              "\n",
              "var JS_MIME_TYPE = 'application/javascript';\n",
              "var HTML_MIME_TYPE = 'text/html';\n",
              "var EXEC_MIME_TYPE = 'application/vnd.holoviews_exec.v0+json';\n",
              "var CLASS_NAME = 'output';\n",
              "\n",
              "/**\n",
              " * Render data to the DOM node\n",
              " */\n",
              "function render(props, node) {\n",
              "  var div = document.createElement(\"div\");\n",
              "  var script = document.createElement(\"script\");\n",
              "  node.appendChild(div);\n",
              "  node.appendChild(script);\n",
              "}\n",
              "\n",
              "/**\n",
              " * Handle when a new output is added\n",
              " */\n",
              "function handle_add_output(event, handle) {\n",
              "  var output_area = handle.output_area;\n",
              "  var output = handle.output;\n",
              "  if ((output.data == undefined) || (!output.data.hasOwnProperty(EXEC_MIME_TYPE))) {\n",
              "    return\n",
              "  }\n",
              "  var id = output.metadata[EXEC_MIME_TYPE][\"id\"];\n",
              "  var toinsert = output_area.element.find(\".\" + CLASS_NAME.split(' ')[0]);\n",
              "  if (id !== undefined) {\n",
              "    var nchildren = toinsert.length;\n",
              "    var html_node = toinsert[nchildren-1].children[0];\n",
              "    html_node.innerHTML = output.data[HTML_MIME_TYPE];\n",
              "    var scripts = [];\n",
              "    var nodelist = html_node.querySelectorAll(\"script\");\n",
              "    for (var i in nodelist) {\n",
              "      if (nodelist.hasOwnProperty(i)) {\n",
              "        scripts.push(nodelist[i])\n",
              "      }\n",
              "    }\n",
              "\n",
              "    scripts.forEach( function (oldScript) {\n",
              "      var newScript = document.createElement(\"script\");\n",
              "      var attrs = [];\n",
              "      var nodemap = oldScript.attributes;\n",
              "      for (var j in nodemap) {\n",
              "        if (nodemap.hasOwnProperty(j)) {\n",
              "          attrs.push(nodemap[j])\n",
              "        }\n",
              "      }\n",
              "      attrs.forEach(function(attr) { newScript.setAttribute(attr.name, attr.value) });\n",
              "      newScript.appendChild(document.createTextNode(oldScript.innerHTML));\n",
              "      oldScript.parentNode.replaceChild(newScript, oldScript);\n",
              "    });\n",
              "    if (JS_MIME_TYPE in output.data) {\n",
              "      toinsert[nchildren-1].children[1].textContent = output.data[JS_MIME_TYPE];\n",
              "    }\n",
              "    output_area._hv_plot_id = id;\n",
              "    if ((window.Bokeh !== undefined) && (id in Bokeh.index)) {\n",
              "      window.PyViz.plot_index[id] = Bokeh.index[id];\n",
              "    } else {\n",
              "      window.PyViz.plot_index[id] = null;\n",
              "    }\n",
              "  } else if (output.metadata[EXEC_MIME_TYPE][\"server_id\"] !== undefined) {\n",
              "    var bk_div = document.createElement(\"div\");\n",
              "    bk_div.innerHTML = output.data[HTML_MIME_TYPE];\n",
              "    var script_attrs = bk_div.children[0].attributes;\n",
              "    for (var i = 0; i < script_attrs.length; i++) {\n",
              "      toinsert[toinsert.length - 1].childNodes[1].setAttribute(script_attrs[i].name, script_attrs[i].value);\n",
              "    }\n",
              "    // store reference to server id on output_area\n",
              "    output_area._bokeh_server_id = output.metadata[EXEC_MIME_TYPE][\"server_id\"];\n",
              "  }\n",
              "}\n",
              "\n",
              "/**\n",
              " * Handle when an output is cleared or removed\n",
              " */\n",
              "function handle_clear_output(event, handle) {\n",
              "  var id = handle.cell.output_area._hv_plot_id;\n",
              "  var server_id = handle.cell.output_area._bokeh_server_id;\n",
              "  if (((id === undefined) || !(id in PyViz.plot_index)) && (server_id !== undefined)) { return; }\n",
              "  var comm = window.PyViz.comm_manager.get_client_comm(\"hv-extension-comm\", \"hv-extension-comm\", function () {});\n",
              "  if (server_id !== null) {\n",
              "    comm.send({event_type: 'server_delete', 'id': server_id});\n",
              "    return;\n",
              "  } else if (comm !== null) {\n",
              "    comm.send({event_type: 'delete', 'id': id});\n",
              "  }\n",
              "  delete PyViz.plot_index[id];\n",
              "  if ((window.Bokeh !== undefined) & (id in window.Bokeh.index)) {\n",
              "    var doc = window.Bokeh.index[id].model.document\n",
              "    doc.clear();\n",
              "    const i = window.Bokeh.documents.indexOf(doc);\n",
              "    if (i > -1) {\n",
              "      window.Bokeh.documents.splice(i, 1);\n",
              "    }\n",
              "  }\n",
              "}\n",
              "\n",
              "/**\n",
              " * Handle kernel restart event\n",
              " */\n",
              "function handle_kernel_cleanup(event, handle) {\n",
              "  delete PyViz.comms[\"hv-extension-comm\"];\n",
              "  window.PyViz.plot_index = {}\n",
              "}\n",
              "\n",
              "/**\n",
              " * Handle update_display_data messages\n",
              " */\n",
              "function handle_update_output(event, handle) {\n",
              "  handle_clear_output(event, {cell: {output_area: handle.output_area}})\n",
              "  handle_add_output(event, handle)\n",
              "}\n",
              "\n",
              "function register_renderer(events, OutputArea) {\n",
              "  function append_mime(data, metadata, element) {\n",
              "    // create a DOM node to render to\n",
              "    var toinsert = this.create_output_subarea(\n",
              "    metadata,\n",
              "    CLASS_NAME,\n",
              "    EXEC_MIME_TYPE\n",
              "    );\n",
              "    this.keyboard_manager.register_events(toinsert);\n",
              "    // Render to node\n",
              "    var props = {data: data, metadata: metadata[EXEC_MIME_TYPE]};\n",
              "    render(props, toinsert[0]);\n",
              "    element.append(toinsert);\n",
              "    return toinsert\n",
              "  }\n",
              "\n",
              "  events.on('output_added.OutputArea', handle_add_output);\n",
              "  events.on('output_updated.OutputArea', handle_update_output);\n",
              "  events.on('clear_output.CodeCell', handle_clear_output);\n",
              "  events.on('delete.Cell', handle_clear_output);\n",
              "  events.on('kernel_ready.Kernel', handle_kernel_cleanup);\n",
              "\n",
              "  OutputArea.prototype.register_mime_type(EXEC_MIME_TYPE, append_mime, {\n",
              "    safe: true,\n",
              "    index: 0\n",
              "  });\n",
              "}\n",
              "\n",
              "if (window.Jupyter !== undefined) {\n",
              "  try {\n",
              "    var events = require('base/js/events');\n",
              "    var OutputArea = require('notebook/js/outputarea').OutputArea;\n",
              "    if (OutputArea.prototype.mime_types().indexOf(EXEC_MIME_TYPE) == -1) {\n",
              "      register_renderer(events, OutputArea);\n",
              "    }\n",
              "  } catch(err) {\n",
              "  }\n",
              "}\n"
            ]
          },
          "metadata": {}
        },
        {
          "output_type": "display_data",
          "data": {
            "text/html": [
              "<style>.bk-root, .bk-root .bk:before, .bk-root .bk:after {\n",
              "  font-family: var(--jp-ui-font-size1);\n",
              "  font-size: var(--jp-ui-font-size1);\n",
              "  color: var(--jp-ui-font-color1);\n",
              "}\n",
              "</style>"
            ]
          },
          "metadata": {}
        }
      ]
    },
    {
      "cell_type": "code",
      "source": [
        "def collect_messages(_):\n",
        "    prompt = inp.value_input\n",
        "    inp.value = ''\n",
        "    context.append({'role':'user', 'content':f\"{prompt}\"})\n",
        "    response = get_completion_from_messages(context) \n",
        "    context.append({'role':'assistant', 'content':f\"{response}\"})\n",
        "    panels.append(\n",
        "        pn.Row('User:', pn.pane.Markdown(prompt, width=600)))\n",
        "    panels.append(\n",
        "        pn.Row('Assistant:', pn.pane.Markdown(response, width=600, style={'background-color': '#F6F6F6'})))\n",
        " \n",
        "    return pn.Column(*panels)\n"
      ],
      "metadata": {
        "id": "qn9xaxLMAdgB"
      },
      "execution_count": 48,
      "outputs": []
    },
    {
      "cell_type": "code",
      "source": [
        "\n",
        "panels = [] # collect display \n",
        "\n",
        "context = [ {'role':'system', 'content':\"\"\"\n",
        "You are OrderBot, an automated service to collect orders for a pizza restaurant. \\\n",
        "You first greet the customer, then collects the order, \\\n",
        "and then asks if it's a pickup or delivery. \\\n",
        "You wait to collect the entire order, then summarize it and check for a final \\\n",
        "time if the customer wants to add anything else. \\\n",
        "If it's a delivery, you ask for an address. \\\n",
        "Finally you collect the payment.\\\n",
        "Make sure to clarify all options, extras and sizes to uniquely \\\n",
        "identify the item from the menu.\\\n",
        "You respond in a short, very conversational friendly style. \\\n",
        "The menu includes \\\n",
        "pepperoni pizza  12.95, 10.00, 7.00 \\\n",
        "cheese pizza   10.95, 9.25, 6.50 \\\n",
        "eggplant pizza   11.95, 9.75, 6.75 \\\n",
        "fries 4.50, 3.50 \\\n",
        "greek salad 7.25 \\\n",
        "Toppings: \\\n",
        "extra cheese 2.00, \\\n",
        "mushrooms 1.50 \\\n",
        "sausage 3.00 \\\n",
        "canadian bacon 3.50 \\\n",
        "AI sauce 1.50 \\\n",
        "peppers 1.00 \\\n",
        "Drinks: \\\n",
        "coke 3.00, 2.00, 1.00 \\\n",
        "sprite 3.00, 2.00, 1.00 \\\n",
        "bottled water 5.00 \\\n",
        "\"\"\"} ]  # accumulate messages\n",
        "\n",
        "\n",
        "inp = pn.widgets.TextInput(value=\"Hi\", placeholder='Enter text here…')\n",
        "button_conversation = pn.widgets.Button(name=\"Chat!\")\n",
        "\n",
        "interactive_conversation = pn.bind(collect_messages, button_conversation)\n",
        "\n",
        "dashboard = pn.Column(\n",
        "    inp,\n",
        "    pn.Row(button_conversation),\n",
        "    pn.panel(interactive_conversation, loading_indicator=True, height=300),\n",
        ")\n",
        "\n",
        "dashboard"
      ],
      "metadata": {
        "colab": {
          "base_uri": "https://localhost:8080/",
          "height": 1000
        },
        "id": "lbVPsrTOA38u",
        "outputId": "9e1450a1-2f90-4402-a6ef-e3066d98c943"
      },
      "execution_count": 49,
      "outputs": [
        {
          "output_type": "display_data",
          "data": {
            "application/javascript": [
              "(function(root) {\n",
              "  function now() {\n",
              "    return new Date();\n",
              "  }\n",
              "\n",
              "  var force = true;\n",
              "\n",
              "  if (typeof root._bokeh_onload_callbacks === \"undefined\" || force === true) {\n",
              "    root._bokeh_onload_callbacks = [];\n",
              "    root._bokeh_is_loading = undefined;\n",
              "  }\n",
              "\n",
              "  if (typeof (root._bokeh_timeout) === \"undefined\" || force === true) {\n",
              "    root._bokeh_timeout = Date.now() + 5000;\n",
              "    root._bokeh_failed_load = false;\n",
              "  }\n",
              "\n",
              "  function run_callbacks() {\n",
              "    try {\n",
              "      root._bokeh_onload_callbacks.forEach(function(callback) {\n",
              "        if (callback != null)\n",
              "          callback();\n",
              "      });\n",
              "    } finally {\n",
              "      delete root._bokeh_onload_callbacks\n",
              "    }\n",
              "    console.debug(\"Bokeh: all callbacks have finished\");\n",
              "  }\n",
              "\n",
              "  function load_libs(css_urls, js_urls, js_modules, callback) {\n",
              "    if (css_urls == null) css_urls = [];\n",
              "    if (js_urls == null) js_urls = [];\n",
              "    if (js_modules == null) js_modules = [];\n",
              "\n",
              "    root._bokeh_onload_callbacks.push(callback);\n",
              "    if (root._bokeh_is_loading > 0) {\n",
              "      console.debug(\"Bokeh: BokehJS is being loaded, scheduling callback at\", now());\n",
              "      return null;\n",
              "    }\n",
              "    if (js_urls.length === 0 && js_modules.length === 0) {\n",
              "      run_callbacks();\n",
              "      return null;\n",
              "    }\n",
              "    console.debug(\"Bokeh: BokehJS not loaded, scheduling load and callback at\", now());\n",
              "\n",
              "    function on_load() {\n",
              "      root._bokeh_is_loading--;\n",
              "      if (root._bokeh_is_loading === 0) {\n",
              "        console.debug(\"Bokeh: all BokehJS libraries/stylesheets loaded\");\n",
              "        run_callbacks()\n",
              "      }\n",
              "    }\n",
              "\n",
              "    function on_error() {\n",
              "      console.error(\"failed to load \" + url);\n",
              "    }\n",
              "\n",
              "    for (var i = 0; i < css_urls.length; i++) {\n",
              "      var url = css_urls[i];\n",
              "      const element = document.createElement(\"link\");\n",
              "      element.onload = on_load;\n",
              "      element.onerror = on_error;\n",
              "      element.rel = \"stylesheet\";\n",
              "      element.type = \"text/css\";\n",
              "      element.href = url;\n",
              "      console.debug(\"Bokeh: injecting link tag for BokehJS stylesheet: \", url);\n",
              "      document.body.appendChild(element);\n",
              "    }\n",
              "\n",
              "    var skip = [];\n",
              "    if (window.requirejs) {\n",
              "      window.requirejs.config({'packages': {}, 'paths': {'gridstack': 'https://cdn.jsdelivr.net/npm/gridstack@4.2.5/dist/gridstack-h5', 'notyf': 'https://cdn.jsdelivr.net/npm/notyf@3/notyf.min'}, 'shim': {'gridstack': {'exports': 'GridStack'}}});\n",
              "      require([\"gridstack\"], function(GridStack) {\n",
              "\twindow.GridStack = GridStack\n",
              "\ton_load()\n",
              "      })\n",
              "      require([\"notyf\"], function() {\n",
              "\ton_load()\n",
              "      })\n",
              "      root._bokeh_is_loading = css_urls.length + 2;\n",
              "    } else {\n",
              "      root._bokeh_is_loading = css_urls.length + js_urls.length + js_modules.length;\n",
              "    }    if (((window['GridStack'] !== undefined) && (!(window['GridStack'] instanceof HTMLElement))) || window.requirejs) {\n",
              "      var urls = ['https://cdn.holoviz.org/panel/0.14.4/dist/bundled/gridstack/gridstack@4.2.5/dist/gridstack-h5.js'];\n",
              "      for (var i = 0; i < urls.length; i++) {\n",
              "        skip.push(urls[i])\n",
              "      }\n",
              "    }    if (((window['Notyf'] !== undefined) && (!(window['Notyf'] instanceof HTMLElement))) || window.requirejs) {\n",
              "      var urls = ['https://cdn.holoviz.org/panel/0.14.4/dist/bundled/notificationarea/notyf@3/notyf.min.js'];\n",
              "      for (var i = 0; i < urls.length; i++) {\n",
              "        skip.push(urls[i])\n",
              "      }\n",
              "    }    for (var i = 0; i < js_urls.length; i++) {\n",
              "      var url = js_urls[i];\n",
              "      if (skip.indexOf(url) >= 0) {\n",
              "\tif (!window.requirejs) {\n",
              "\t  on_load();\n",
              "\t}\n",
              "\tcontinue;\n",
              "      }\n",
              "      var element = document.createElement('script');\n",
              "      element.onload = on_load;\n",
              "      element.onerror = on_error;\n",
              "      element.async = false;\n",
              "      element.src = url;\n",
              "      console.debug(\"Bokeh: injecting script tag for BokehJS library: \", url);\n",
              "      document.head.appendChild(element);\n",
              "    }\n",
              "    for (var i = 0; i < js_modules.length; i++) {\n",
              "      var url = js_modules[i];\n",
              "      if (skip.indexOf(url) >= 0) {\n",
              "\tif (!window.requirejs) {\n",
              "\t  on_load();\n",
              "\t}\n",
              "\tcontinue;\n",
              "      }\n",
              "      var element = document.createElement('script');\n",
              "      element.onload = on_load;\n",
              "      element.onerror = on_error;\n",
              "      element.async = false;\n",
              "      element.src = url;\n",
              "      element.type = \"module\";\n",
              "      console.debug(\"Bokeh: injecting script tag for BokehJS library: \", url);\n",
              "      document.head.appendChild(element);\n",
              "    }\n",
              "    if (!js_urls.length && !js_modules.length) {\n",
              "      on_load()\n",
              "    }\n",
              "  };\n",
              "\n",
              "  function inject_raw_css(css) {\n",
              "    const element = document.createElement(\"style\");\n",
              "    element.appendChild(document.createTextNode(css));\n",
              "    document.body.appendChild(element);\n",
              "  }\n",
              "\n",
              "  var js_urls = [\"https://cdn.bokeh.org/bokeh/release/bokeh-2.4.3.min.js\", \"https://cdn.bokeh.org/bokeh/release/bokeh-gl-2.4.3.min.js\", \"https://cdn.bokeh.org/bokeh/release/bokeh-widgets-2.4.3.min.js\", \"https://cdn.bokeh.org/bokeh/release/bokeh-tables-2.4.3.min.js\", \"https://cdn.bokeh.org/bokeh/release/bokeh-mathjax-2.4.3.min.js\", \"https://unpkg.com/@holoviz/panel@0.14.4/dist/panel.min.js\"];\n",
              "  var js_modules = [];\n",
              "  var css_urls = [\"https://cdn.holoviz.org/panel/0.14.4/dist/css/dataframe.css\", \"https://cdn.holoviz.org/panel/0.14.4/dist/css/widgets.css\", \"https://cdn.holoviz.org/panel/0.14.4/dist/css/debugger.css\", \"https://cdn.holoviz.org/panel/0.14.4/dist/css/card.css\", \"https://cdn.holoviz.org/panel/0.14.4/dist/css/alerts.css\", \"https://cdn.holoviz.org/panel/0.14.4/dist/css/json.css\", \"https://cdn.holoviz.org/panel/0.14.4/dist/css/markdown.css\", \"https://cdn.holoviz.org/panel/0.14.4/dist/css/loading.css\"];\n",
              "  var inline_js = [    function(Bokeh) {\n",
              "      inject_raw_css(\"\\n    .bk.pn-loading.arc:before {\\n      background-image: url(\\\"data:image/svg+xml;base64,PHN2ZyB4bWxucz0iaHR0cDovL3d3dy53My5vcmcvMjAwMC9zdmciIHN0eWxlPSJtYXJnaW46IGF1dG87IGJhY2tncm91bmQ6IG5vbmU7IGRpc3BsYXk6IGJsb2NrOyBzaGFwZS1yZW5kZXJpbmc6IGF1dG87IiB2aWV3Qm94PSIwIDAgMTAwIDEwMCIgcHJlc2VydmVBc3BlY3RSYXRpbz0ieE1pZFlNaWQiPiAgPGNpcmNsZSBjeD0iNTAiIGN5PSI1MCIgZmlsbD0ibm9uZSIgc3Ryb2tlPSIjYzNjM2MzIiBzdHJva2Utd2lkdGg9IjEwIiByPSIzNSIgc3Ryb2tlLWRhc2hhcnJheT0iMTY0LjkzMzYxNDMxMzQ2NDE1IDU2Ljk3Nzg3MTQzNzgyMTM4Ij4gICAgPGFuaW1hdGVUcmFuc2Zvcm0gYXR0cmlidXRlTmFtZT0idHJhbnNmb3JtIiB0eXBlPSJyb3RhdGUiIHJlcGVhdENvdW50PSJpbmRlZmluaXRlIiBkdXI9IjFzIiB2YWx1ZXM9IjAgNTAgNTA7MzYwIDUwIDUwIiBrZXlUaW1lcz0iMDsxIj48L2FuaW1hdGVUcmFuc2Zvcm0+ICA8L2NpcmNsZT48L3N2Zz4=\\\");\\n      background-size: auto calc(min(50%, 400px));\\n    }\\n    \");\n",
              "    },    function(Bokeh) {\n",
              "      Bokeh.set_log_level(\"info\");\n",
              "    },\n",
              "function(Bokeh) {} // ensure no trailing comma for IE\n",
              "  ];\n",
              "\n",
              "  function run_inline_js() {\n",
              "    if ((root.Bokeh !== undefined) || (force === true)) {\n",
              "      for (var i = 0; i < inline_js.length; i++) {\n",
              "        inline_js[i].call(root, root.Bokeh);\n",
              "      }} else if (Date.now() < root._bokeh_timeout) {\n",
              "      setTimeout(run_inline_js, 100);\n",
              "    } else if (!root._bokeh_failed_load) {\n",
              "      console.log(\"Bokeh: BokehJS failed to load within specified timeout.\");\n",
              "      root._bokeh_failed_load = true;\n",
              "    }\n",
              "  }\n",
              "\n",
              "  if (root._bokeh_is_loading === 0) {\n",
              "    console.debug(\"Bokeh: BokehJS loaded, going straight to plotting\");\n",
              "    run_inline_js();\n",
              "  } else {\n",
              "    load_libs(css_urls, js_urls, js_modules, function() {\n",
              "      console.debug(\"Bokeh: BokehJS plotting callback run at\", now());\n",
              "      run_inline_js();\n",
              "    });\n",
              "  }\n",
              "}(window));"
            ],
            "application/vnd.holoviews_load.v0+json": "(function(root) {\n  function now() {\n    return new Date();\n  }\n\n  var force = true;\n\n  if (typeof root._bokeh_onload_callbacks === \"undefined\" || force === true) {\n    root._bokeh_onload_callbacks = [];\n    root._bokeh_is_loading = undefined;\n  }\n\n  if (typeof (root._bokeh_timeout) === \"undefined\" || force === true) {\n    root._bokeh_timeout = Date.now() + 5000;\n    root._bokeh_failed_load = false;\n  }\n\n  function run_callbacks() {\n    try {\n      root._bokeh_onload_callbacks.forEach(function(callback) {\n        if (callback != null)\n          callback();\n      });\n    } finally {\n      delete root._bokeh_onload_callbacks\n    }\n    console.debug(\"Bokeh: all callbacks have finished\");\n  }\n\n  function load_libs(css_urls, js_urls, js_modules, callback) {\n    if (css_urls == null) css_urls = [];\n    if (js_urls == null) js_urls = [];\n    if (js_modules == null) js_modules = [];\n\n    root._bokeh_onload_callbacks.push(callback);\n    if (root._bokeh_is_loading > 0) {\n      console.debug(\"Bokeh: BokehJS is being loaded, scheduling callback at\", now());\n      return null;\n    }\n    if (js_urls.length === 0 && js_modules.length === 0) {\n      run_callbacks();\n      return null;\n    }\n    console.debug(\"Bokeh: BokehJS not loaded, scheduling load and callback at\", now());\n\n    function on_load() {\n      root._bokeh_is_loading--;\n      if (root._bokeh_is_loading === 0) {\n        console.debug(\"Bokeh: all BokehJS libraries/stylesheets loaded\");\n        run_callbacks()\n      }\n    }\n\n    function on_error() {\n      console.error(\"failed to load \" + url);\n    }\n\n    for (var i = 0; i < css_urls.length; i++) {\n      var url = css_urls[i];\n      const element = document.createElement(\"link\");\n      element.onload = on_load;\n      element.onerror = on_error;\n      element.rel = \"stylesheet\";\n      element.type = \"text/css\";\n      element.href = url;\n      console.debug(\"Bokeh: injecting link tag for BokehJS stylesheet: \", url);\n      document.body.appendChild(element);\n    }\n\n    var skip = [];\n    if (window.requirejs) {\n      window.requirejs.config({'packages': {}, 'paths': {'gridstack': 'https://cdn.jsdelivr.net/npm/gridstack@4.2.5/dist/gridstack-h5', 'notyf': 'https://cdn.jsdelivr.net/npm/notyf@3/notyf.min'}, 'shim': {'gridstack': {'exports': 'GridStack'}}});\n      require([\"gridstack\"], function(GridStack) {\n\twindow.GridStack = GridStack\n\ton_load()\n      })\n      require([\"notyf\"], function() {\n\ton_load()\n      })\n      root._bokeh_is_loading = css_urls.length + 2;\n    } else {\n      root._bokeh_is_loading = css_urls.length + js_urls.length + js_modules.length;\n    }    if (((window['GridStack'] !== undefined) && (!(window['GridStack'] instanceof HTMLElement))) || window.requirejs) {\n      var urls = ['https://cdn.holoviz.org/panel/0.14.4/dist/bundled/gridstack/gridstack@4.2.5/dist/gridstack-h5.js'];\n      for (var i = 0; i < urls.length; i++) {\n        skip.push(urls[i])\n      }\n    }    if (((window['Notyf'] !== undefined) && (!(window['Notyf'] instanceof HTMLElement))) || window.requirejs) {\n      var urls = ['https://cdn.holoviz.org/panel/0.14.4/dist/bundled/notificationarea/notyf@3/notyf.min.js'];\n      for (var i = 0; i < urls.length; i++) {\n        skip.push(urls[i])\n      }\n    }    for (var i = 0; i < js_urls.length; i++) {\n      var url = js_urls[i];\n      if (skip.indexOf(url) >= 0) {\n\tif (!window.requirejs) {\n\t  on_load();\n\t}\n\tcontinue;\n      }\n      var element = document.createElement('script');\n      element.onload = on_load;\n      element.onerror = on_error;\n      element.async = false;\n      element.src = url;\n      console.debug(\"Bokeh: injecting script tag for BokehJS library: \", url);\n      document.head.appendChild(element);\n    }\n    for (var i = 0; i < js_modules.length; i++) {\n      var url = js_modules[i];\n      if (skip.indexOf(url) >= 0) {\n\tif (!window.requirejs) {\n\t  on_load();\n\t}\n\tcontinue;\n      }\n      var element = document.createElement('script');\n      element.onload = on_load;\n      element.onerror = on_error;\n      element.async = false;\n      element.src = url;\n      element.type = \"module\";\n      console.debug(\"Bokeh: injecting script tag for BokehJS library: \", url);\n      document.head.appendChild(element);\n    }\n    if (!js_urls.length && !js_modules.length) {\n      on_load()\n    }\n  };\n\n  function inject_raw_css(css) {\n    const element = document.createElement(\"style\");\n    element.appendChild(document.createTextNode(css));\n    document.body.appendChild(element);\n  }\n\n  var js_urls = [\"https://cdn.bokeh.org/bokeh/release/bokeh-2.4.3.min.js\", \"https://cdn.bokeh.org/bokeh/release/bokeh-gl-2.4.3.min.js\", \"https://cdn.bokeh.org/bokeh/release/bokeh-widgets-2.4.3.min.js\", \"https://cdn.bokeh.org/bokeh/release/bokeh-tables-2.4.3.min.js\", \"https://cdn.bokeh.org/bokeh/release/bokeh-mathjax-2.4.3.min.js\", \"https://unpkg.com/@holoviz/panel@0.14.4/dist/panel.min.js\"];\n  var js_modules = [];\n  var css_urls = [\"https://cdn.holoviz.org/panel/0.14.4/dist/css/dataframe.css\", \"https://cdn.holoviz.org/panel/0.14.4/dist/css/widgets.css\", \"https://cdn.holoviz.org/panel/0.14.4/dist/css/debugger.css\", \"https://cdn.holoviz.org/panel/0.14.4/dist/css/card.css\", \"https://cdn.holoviz.org/panel/0.14.4/dist/css/alerts.css\", \"https://cdn.holoviz.org/panel/0.14.4/dist/css/json.css\", \"https://cdn.holoviz.org/panel/0.14.4/dist/css/markdown.css\", \"https://cdn.holoviz.org/panel/0.14.4/dist/css/loading.css\"];\n  var inline_js = [    function(Bokeh) {\n      inject_raw_css(\"\\n    .bk.pn-loading.arc:before {\\n      background-image: url(\\\"data:image/svg+xml;base64,PHN2ZyB4bWxucz0iaHR0cDovL3d3dy53My5vcmcvMjAwMC9zdmciIHN0eWxlPSJtYXJnaW46IGF1dG87IGJhY2tncm91bmQ6IG5vbmU7IGRpc3BsYXk6IGJsb2NrOyBzaGFwZS1yZW5kZXJpbmc6IGF1dG87IiB2aWV3Qm94PSIwIDAgMTAwIDEwMCIgcHJlc2VydmVBc3BlY3RSYXRpbz0ieE1pZFlNaWQiPiAgPGNpcmNsZSBjeD0iNTAiIGN5PSI1MCIgZmlsbD0ibm9uZSIgc3Ryb2tlPSIjYzNjM2MzIiBzdHJva2Utd2lkdGg9IjEwIiByPSIzNSIgc3Ryb2tlLWRhc2hhcnJheT0iMTY0LjkzMzYxNDMxMzQ2NDE1IDU2Ljk3Nzg3MTQzNzgyMTM4Ij4gICAgPGFuaW1hdGVUcmFuc2Zvcm0gYXR0cmlidXRlTmFtZT0idHJhbnNmb3JtIiB0eXBlPSJyb3RhdGUiIHJlcGVhdENvdW50PSJpbmRlZmluaXRlIiBkdXI9IjFzIiB2YWx1ZXM9IjAgNTAgNTA7MzYwIDUwIDUwIiBrZXlUaW1lcz0iMDsxIj48L2FuaW1hdGVUcmFuc2Zvcm0+ICA8L2NpcmNsZT48L3N2Zz4=\\\");\\n      background-size: auto calc(min(50%, 400px));\\n    }\\n    \");\n    },    function(Bokeh) {\n      Bokeh.set_log_level(\"info\");\n    },\nfunction(Bokeh) {} // ensure no trailing comma for IE\n  ];\n\n  function run_inline_js() {\n    if ((root.Bokeh !== undefined) || (force === true)) {\n      for (var i = 0; i < inline_js.length; i++) {\n        inline_js[i].call(root, root.Bokeh);\n      }} else if (Date.now() < root._bokeh_timeout) {\n      setTimeout(run_inline_js, 100);\n    } else if (!root._bokeh_failed_load) {\n      console.log(\"Bokeh: BokehJS failed to load within specified timeout.\");\n      root._bokeh_failed_load = true;\n    }\n  }\n\n  if (root._bokeh_is_loading === 0) {\n    console.debug(\"Bokeh: BokehJS loaded, going straight to plotting\");\n    run_inline_js();\n  } else {\n    load_libs(css_urls, js_urls, js_modules, function() {\n      console.debug(\"Bokeh: BokehJS plotting callback run at\", now());\n      run_inline_js();\n    });\n  }\n}(window));"
          },
          "metadata": {}
        },
        {
          "output_type": "display_data",
          "data": {
            "application/vnd.holoviews_load.v0+json": "\nif ((window.PyViz === undefined) || (window.PyViz instanceof HTMLElement)) {\n  window.PyViz = {comms: {}, comm_status:{}, kernels:{}, receivers: {}, plot_index: []}\n}\n\n\n    function JupyterCommManager() {\n    }\n\n    JupyterCommManager.prototype.register_target = function(plot_id, comm_id, msg_handler) {\n      if (window.comm_manager || ((window.Jupyter !== undefined) && (Jupyter.notebook.kernel != null))) {\n        var comm_manager = window.comm_manager || Jupyter.notebook.kernel.comm_manager;\n        comm_manager.register_target(comm_id, function(comm) {\n          comm.on_msg(msg_handler);\n        });\n      } else if ((plot_id in window.PyViz.kernels) && (window.PyViz.kernels[plot_id])) {\n        window.PyViz.kernels[plot_id].registerCommTarget(comm_id, function(comm) {\n          comm.onMsg = msg_handler;\n        });\n      } else if (typeof google != 'undefined' && google.colab.kernel != null) {\n        google.colab.kernel.comms.registerTarget(comm_id, (comm) => {\n          var messages = comm.messages[Symbol.asyncIterator]();\n          function processIteratorResult(result) {\n            var message = result.value;\n            console.log(message)\n            var content = {data: message.data, comm_id};\n            var buffers = []\n            for (var buffer of message.buffers || []) {\n              buffers.push(new DataView(buffer))\n            }\n            var metadata = message.metadata || {};\n            var msg = {content, buffers, metadata}\n            msg_handler(msg);\n            return messages.next().then(processIteratorResult);\n          }\n          return messages.next().then(processIteratorResult);\n        })\n      }\n    }\n\n    JupyterCommManager.prototype.get_client_comm = function(plot_id, comm_id, msg_handler) {\n      if (comm_id in window.PyViz.comms) {\n        return window.PyViz.comms[comm_id];\n      } else if (window.comm_manager || ((window.Jupyter !== undefined) && (Jupyter.notebook.kernel != null))) {\n        var comm_manager = window.comm_manager || Jupyter.notebook.kernel.comm_manager;\n        var comm = comm_manager.new_comm(comm_id, {}, {}, {}, comm_id);\n        if (msg_handler) {\n          comm.on_msg(msg_handler);\n        }\n      } else if ((plot_id in window.PyViz.kernels) && (window.PyViz.kernels[plot_id])) {\n        var comm = window.PyViz.kernels[plot_id].connectToComm(comm_id);\n        comm.open();\n        if (msg_handler) {\n          comm.onMsg = msg_handler;\n        }\n      } else if (typeof google != 'undefined' && google.colab.kernel != null) {\n        var comm_promise = google.colab.kernel.comms.open(comm_id)\n        comm_promise.then((comm) => {\n          window.PyViz.comms[comm_id] = comm;\n          if (msg_handler) {\n            var messages = comm.messages[Symbol.asyncIterator]();\n            function processIteratorResult(result) {\n              var message = result.value;\n              var content = {data: message.data};\n              var metadata = message.metadata || {comm_id};\n              var msg = {content, metadata}\n              msg_handler(msg);\n              return messages.next().then(processIteratorResult);\n            }\n            return messages.next().then(processIteratorResult);\n          }\n        }) \n        var sendClosure = (data, metadata, buffers, disposeOnDone) => {\n          return comm_promise.then((comm) => {\n            comm.send(data, metadata, buffers, disposeOnDone);\n          });\n        };\n        var comm = {\n          send: sendClosure\n        };\n      }\n      window.PyViz.comms[comm_id] = comm;\n      return comm;\n    }\n    window.PyViz.comm_manager = new JupyterCommManager();\n    \n\n\nvar JS_MIME_TYPE = 'application/javascript';\nvar HTML_MIME_TYPE = 'text/html';\nvar EXEC_MIME_TYPE = 'application/vnd.holoviews_exec.v0+json';\nvar CLASS_NAME = 'output';\n\n/**\n * Render data to the DOM node\n */\nfunction render(props, node) {\n  var div = document.createElement(\"div\");\n  var script = document.createElement(\"script\");\n  node.appendChild(div);\n  node.appendChild(script);\n}\n\n/**\n * Handle when a new output is added\n */\nfunction handle_add_output(event, handle) {\n  var output_area = handle.output_area;\n  var output = handle.output;\n  if ((output.data == undefined) || (!output.data.hasOwnProperty(EXEC_MIME_TYPE))) {\n    return\n  }\n  var id = output.metadata[EXEC_MIME_TYPE][\"id\"];\n  var toinsert = output_area.element.find(\".\" + CLASS_NAME.split(' ')[0]);\n  if (id !== undefined) {\n    var nchildren = toinsert.length;\n    var html_node = toinsert[nchildren-1].children[0];\n    html_node.innerHTML = output.data[HTML_MIME_TYPE];\n    var scripts = [];\n    var nodelist = html_node.querySelectorAll(\"script\");\n    for (var i in nodelist) {\n      if (nodelist.hasOwnProperty(i)) {\n        scripts.push(nodelist[i])\n      }\n    }\n\n    scripts.forEach( function (oldScript) {\n      var newScript = document.createElement(\"script\");\n      var attrs = [];\n      var nodemap = oldScript.attributes;\n      for (var j in nodemap) {\n        if (nodemap.hasOwnProperty(j)) {\n          attrs.push(nodemap[j])\n        }\n      }\n      attrs.forEach(function(attr) { newScript.setAttribute(attr.name, attr.value) });\n      newScript.appendChild(document.createTextNode(oldScript.innerHTML));\n      oldScript.parentNode.replaceChild(newScript, oldScript);\n    });\n    if (JS_MIME_TYPE in output.data) {\n      toinsert[nchildren-1].children[1].textContent = output.data[JS_MIME_TYPE];\n    }\n    output_area._hv_plot_id = id;\n    if ((window.Bokeh !== undefined) && (id in Bokeh.index)) {\n      window.PyViz.plot_index[id] = Bokeh.index[id];\n    } else {\n      window.PyViz.plot_index[id] = null;\n    }\n  } else if (output.metadata[EXEC_MIME_TYPE][\"server_id\"] !== undefined) {\n    var bk_div = document.createElement(\"div\");\n    bk_div.innerHTML = output.data[HTML_MIME_TYPE];\n    var script_attrs = bk_div.children[0].attributes;\n    for (var i = 0; i < script_attrs.length; i++) {\n      toinsert[toinsert.length - 1].childNodes[1].setAttribute(script_attrs[i].name, script_attrs[i].value);\n    }\n    // store reference to server id on output_area\n    output_area._bokeh_server_id = output.metadata[EXEC_MIME_TYPE][\"server_id\"];\n  }\n}\n\n/**\n * Handle when an output is cleared or removed\n */\nfunction handle_clear_output(event, handle) {\n  var id = handle.cell.output_area._hv_plot_id;\n  var server_id = handle.cell.output_area._bokeh_server_id;\n  if (((id === undefined) || !(id in PyViz.plot_index)) && (server_id !== undefined)) { return; }\n  var comm = window.PyViz.comm_manager.get_client_comm(\"hv-extension-comm\", \"hv-extension-comm\", function () {});\n  if (server_id !== null) {\n    comm.send({event_type: 'server_delete', 'id': server_id});\n    return;\n  } else if (comm !== null) {\n    comm.send({event_type: 'delete', 'id': id});\n  }\n  delete PyViz.plot_index[id];\n  if ((window.Bokeh !== undefined) & (id in window.Bokeh.index)) {\n    var doc = window.Bokeh.index[id].model.document\n    doc.clear();\n    const i = window.Bokeh.documents.indexOf(doc);\n    if (i > -1) {\n      window.Bokeh.documents.splice(i, 1);\n    }\n  }\n}\n\n/**\n * Handle kernel restart event\n */\nfunction handle_kernel_cleanup(event, handle) {\n  delete PyViz.comms[\"hv-extension-comm\"];\n  window.PyViz.plot_index = {}\n}\n\n/**\n * Handle update_display_data messages\n */\nfunction handle_update_output(event, handle) {\n  handle_clear_output(event, {cell: {output_area: handle.output_area}})\n  handle_add_output(event, handle)\n}\n\nfunction register_renderer(events, OutputArea) {\n  function append_mime(data, metadata, element) {\n    // create a DOM node to render to\n    var toinsert = this.create_output_subarea(\n    metadata,\n    CLASS_NAME,\n    EXEC_MIME_TYPE\n    );\n    this.keyboard_manager.register_events(toinsert);\n    // Render to node\n    var props = {data: data, metadata: metadata[EXEC_MIME_TYPE]};\n    render(props, toinsert[0]);\n    element.append(toinsert);\n    return toinsert\n  }\n\n  events.on('output_added.OutputArea', handle_add_output);\n  events.on('output_updated.OutputArea', handle_update_output);\n  events.on('clear_output.CodeCell', handle_clear_output);\n  events.on('delete.Cell', handle_clear_output);\n  events.on('kernel_ready.Kernel', handle_kernel_cleanup);\n\n  OutputArea.prototype.register_mime_type(EXEC_MIME_TYPE, append_mime, {\n    safe: true,\n    index: 0\n  });\n}\n\nif (window.Jupyter !== undefined) {\n  try {\n    var events = require('base/js/events');\n    var OutputArea = require('notebook/js/outputarea').OutputArea;\n    if (OutputArea.prototype.mime_types().indexOf(EXEC_MIME_TYPE) == -1) {\n      register_renderer(events, OutputArea);\n    }\n  } catch(err) {\n  }\n}\n",
            "application/javascript": [
              "\n",
              "if ((window.PyViz === undefined) || (window.PyViz instanceof HTMLElement)) {\n",
              "  window.PyViz = {comms: {}, comm_status:{}, kernels:{}, receivers: {}, plot_index: []}\n",
              "}\n",
              "\n",
              "\n",
              "    function JupyterCommManager() {\n",
              "    }\n",
              "\n",
              "    JupyterCommManager.prototype.register_target = function(plot_id, comm_id, msg_handler) {\n",
              "      if (window.comm_manager || ((window.Jupyter !== undefined) && (Jupyter.notebook.kernel != null))) {\n",
              "        var comm_manager = window.comm_manager || Jupyter.notebook.kernel.comm_manager;\n",
              "        comm_manager.register_target(comm_id, function(comm) {\n",
              "          comm.on_msg(msg_handler);\n",
              "        });\n",
              "      } else if ((plot_id in window.PyViz.kernels) && (window.PyViz.kernels[plot_id])) {\n",
              "        window.PyViz.kernels[plot_id].registerCommTarget(comm_id, function(comm) {\n",
              "          comm.onMsg = msg_handler;\n",
              "        });\n",
              "      } else if (typeof google != 'undefined' && google.colab.kernel != null) {\n",
              "        google.colab.kernel.comms.registerTarget(comm_id, (comm) => {\n",
              "          var messages = comm.messages[Symbol.asyncIterator]();\n",
              "          function processIteratorResult(result) {\n",
              "            var message = result.value;\n",
              "            console.log(message)\n",
              "            var content = {data: message.data, comm_id};\n",
              "            var buffers = []\n",
              "            for (var buffer of message.buffers || []) {\n",
              "              buffers.push(new DataView(buffer))\n",
              "            }\n",
              "            var metadata = message.metadata || {};\n",
              "            var msg = {content, buffers, metadata}\n",
              "            msg_handler(msg);\n",
              "            return messages.next().then(processIteratorResult);\n",
              "          }\n",
              "          return messages.next().then(processIteratorResult);\n",
              "        })\n",
              "      }\n",
              "    }\n",
              "\n",
              "    JupyterCommManager.prototype.get_client_comm = function(plot_id, comm_id, msg_handler) {\n",
              "      if (comm_id in window.PyViz.comms) {\n",
              "        return window.PyViz.comms[comm_id];\n",
              "      } else if (window.comm_manager || ((window.Jupyter !== undefined) && (Jupyter.notebook.kernel != null))) {\n",
              "        var comm_manager = window.comm_manager || Jupyter.notebook.kernel.comm_manager;\n",
              "        var comm = comm_manager.new_comm(comm_id, {}, {}, {}, comm_id);\n",
              "        if (msg_handler) {\n",
              "          comm.on_msg(msg_handler);\n",
              "        }\n",
              "      } else if ((plot_id in window.PyViz.kernels) && (window.PyViz.kernels[plot_id])) {\n",
              "        var comm = window.PyViz.kernels[plot_id].connectToComm(comm_id);\n",
              "        comm.open();\n",
              "        if (msg_handler) {\n",
              "          comm.onMsg = msg_handler;\n",
              "        }\n",
              "      } else if (typeof google != 'undefined' && google.colab.kernel != null) {\n",
              "        var comm_promise = google.colab.kernel.comms.open(comm_id)\n",
              "        comm_promise.then((comm) => {\n",
              "          window.PyViz.comms[comm_id] = comm;\n",
              "          if (msg_handler) {\n",
              "            var messages = comm.messages[Symbol.asyncIterator]();\n",
              "            function processIteratorResult(result) {\n",
              "              var message = result.value;\n",
              "              var content = {data: message.data};\n",
              "              var metadata = message.metadata || {comm_id};\n",
              "              var msg = {content, metadata}\n",
              "              msg_handler(msg);\n",
              "              return messages.next().then(processIteratorResult);\n",
              "            }\n",
              "            return messages.next().then(processIteratorResult);\n",
              "          }\n",
              "        }) \n",
              "        var sendClosure = (data, metadata, buffers, disposeOnDone) => {\n",
              "          return comm_promise.then((comm) => {\n",
              "            comm.send(data, metadata, buffers, disposeOnDone);\n",
              "          });\n",
              "        };\n",
              "        var comm = {\n",
              "          send: sendClosure\n",
              "        };\n",
              "      }\n",
              "      window.PyViz.comms[comm_id] = comm;\n",
              "      return comm;\n",
              "    }\n",
              "    window.PyViz.comm_manager = new JupyterCommManager();\n",
              "    \n",
              "\n",
              "\n",
              "var JS_MIME_TYPE = 'application/javascript';\n",
              "var HTML_MIME_TYPE = 'text/html';\n",
              "var EXEC_MIME_TYPE = 'application/vnd.holoviews_exec.v0+json';\n",
              "var CLASS_NAME = 'output';\n",
              "\n",
              "/**\n",
              " * Render data to the DOM node\n",
              " */\n",
              "function render(props, node) {\n",
              "  var div = document.createElement(\"div\");\n",
              "  var script = document.createElement(\"script\");\n",
              "  node.appendChild(div);\n",
              "  node.appendChild(script);\n",
              "}\n",
              "\n",
              "/**\n",
              " * Handle when a new output is added\n",
              " */\n",
              "function handle_add_output(event, handle) {\n",
              "  var output_area = handle.output_area;\n",
              "  var output = handle.output;\n",
              "  if ((output.data == undefined) || (!output.data.hasOwnProperty(EXEC_MIME_TYPE))) {\n",
              "    return\n",
              "  }\n",
              "  var id = output.metadata[EXEC_MIME_TYPE][\"id\"];\n",
              "  var toinsert = output_area.element.find(\".\" + CLASS_NAME.split(' ')[0]);\n",
              "  if (id !== undefined) {\n",
              "    var nchildren = toinsert.length;\n",
              "    var html_node = toinsert[nchildren-1].children[0];\n",
              "    html_node.innerHTML = output.data[HTML_MIME_TYPE];\n",
              "    var scripts = [];\n",
              "    var nodelist = html_node.querySelectorAll(\"script\");\n",
              "    for (var i in nodelist) {\n",
              "      if (nodelist.hasOwnProperty(i)) {\n",
              "        scripts.push(nodelist[i])\n",
              "      }\n",
              "    }\n",
              "\n",
              "    scripts.forEach( function (oldScript) {\n",
              "      var newScript = document.createElement(\"script\");\n",
              "      var attrs = [];\n",
              "      var nodemap = oldScript.attributes;\n",
              "      for (var j in nodemap) {\n",
              "        if (nodemap.hasOwnProperty(j)) {\n",
              "          attrs.push(nodemap[j])\n",
              "        }\n",
              "      }\n",
              "      attrs.forEach(function(attr) { newScript.setAttribute(attr.name, attr.value) });\n",
              "      newScript.appendChild(document.createTextNode(oldScript.innerHTML));\n",
              "      oldScript.parentNode.replaceChild(newScript, oldScript);\n",
              "    });\n",
              "    if (JS_MIME_TYPE in output.data) {\n",
              "      toinsert[nchildren-1].children[1].textContent = output.data[JS_MIME_TYPE];\n",
              "    }\n",
              "    output_area._hv_plot_id = id;\n",
              "    if ((window.Bokeh !== undefined) && (id in Bokeh.index)) {\n",
              "      window.PyViz.plot_index[id] = Bokeh.index[id];\n",
              "    } else {\n",
              "      window.PyViz.plot_index[id] = null;\n",
              "    }\n",
              "  } else if (output.metadata[EXEC_MIME_TYPE][\"server_id\"] !== undefined) {\n",
              "    var bk_div = document.createElement(\"div\");\n",
              "    bk_div.innerHTML = output.data[HTML_MIME_TYPE];\n",
              "    var script_attrs = bk_div.children[0].attributes;\n",
              "    for (var i = 0; i < script_attrs.length; i++) {\n",
              "      toinsert[toinsert.length - 1].childNodes[1].setAttribute(script_attrs[i].name, script_attrs[i].value);\n",
              "    }\n",
              "    // store reference to server id on output_area\n",
              "    output_area._bokeh_server_id = output.metadata[EXEC_MIME_TYPE][\"server_id\"];\n",
              "  }\n",
              "}\n",
              "\n",
              "/**\n",
              " * Handle when an output is cleared or removed\n",
              " */\n",
              "function handle_clear_output(event, handle) {\n",
              "  var id = handle.cell.output_area._hv_plot_id;\n",
              "  var server_id = handle.cell.output_area._bokeh_server_id;\n",
              "  if (((id === undefined) || !(id in PyViz.plot_index)) && (server_id !== undefined)) { return; }\n",
              "  var comm = window.PyViz.comm_manager.get_client_comm(\"hv-extension-comm\", \"hv-extension-comm\", function () {});\n",
              "  if (server_id !== null) {\n",
              "    comm.send({event_type: 'server_delete', 'id': server_id});\n",
              "    return;\n",
              "  } else if (comm !== null) {\n",
              "    comm.send({event_type: 'delete', 'id': id});\n",
              "  }\n",
              "  delete PyViz.plot_index[id];\n",
              "  if ((window.Bokeh !== undefined) & (id in window.Bokeh.index)) {\n",
              "    var doc = window.Bokeh.index[id].model.document\n",
              "    doc.clear();\n",
              "    const i = window.Bokeh.documents.indexOf(doc);\n",
              "    if (i > -1) {\n",
              "      window.Bokeh.documents.splice(i, 1);\n",
              "    }\n",
              "  }\n",
              "}\n",
              "\n",
              "/**\n",
              " * Handle kernel restart event\n",
              " */\n",
              "function handle_kernel_cleanup(event, handle) {\n",
              "  delete PyViz.comms[\"hv-extension-comm\"];\n",
              "  window.PyViz.plot_index = {}\n",
              "}\n",
              "\n",
              "/**\n",
              " * Handle update_display_data messages\n",
              " */\n",
              "function handle_update_output(event, handle) {\n",
              "  handle_clear_output(event, {cell: {output_area: handle.output_area}})\n",
              "  handle_add_output(event, handle)\n",
              "}\n",
              "\n",
              "function register_renderer(events, OutputArea) {\n",
              "  function append_mime(data, metadata, element) {\n",
              "    // create a DOM node to render to\n",
              "    var toinsert = this.create_output_subarea(\n",
              "    metadata,\n",
              "    CLASS_NAME,\n",
              "    EXEC_MIME_TYPE\n",
              "    );\n",
              "    this.keyboard_manager.register_events(toinsert);\n",
              "    // Render to node\n",
              "    var props = {data: data, metadata: metadata[EXEC_MIME_TYPE]};\n",
              "    render(props, toinsert[0]);\n",
              "    element.append(toinsert);\n",
              "    return toinsert\n",
              "  }\n",
              "\n",
              "  events.on('output_added.OutputArea', handle_add_output);\n",
              "  events.on('output_updated.OutputArea', handle_update_output);\n",
              "  events.on('clear_output.CodeCell', handle_clear_output);\n",
              "  events.on('delete.Cell', handle_clear_output);\n",
              "  events.on('kernel_ready.Kernel', handle_kernel_cleanup);\n",
              "\n",
              "  OutputArea.prototype.register_mime_type(EXEC_MIME_TYPE, append_mime, {\n",
              "    safe: true,\n",
              "    index: 0\n",
              "  });\n",
              "}\n",
              "\n",
              "if (window.Jupyter !== undefined) {\n",
              "  try {\n",
              "    var events = require('base/js/events');\n",
              "    var OutputArea = require('notebook/js/outputarea').OutputArea;\n",
              "    if (OutputArea.prototype.mime_types().indexOf(EXEC_MIME_TYPE) == -1) {\n",
              "      register_renderer(events, OutputArea);\n",
              "    }\n",
              "  } catch(err) {\n",
              "  }\n",
              "}\n"
            ]
          },
          "metadata": {}
        },
        {
          "output_type": "display_data",
          "data": {
            "text/html": [
              "<style>.bk-root, .bk-root .bk:before, .bk-root .bk:after {\n",
              "  font-family: var(--jp-ui-font-size1);\n",
              "  font-size: var(--jp-ui-font-size1);\n",
              "  color: var(--jp-ui-font-color1);\n",
              "}\n",
              "</style>"
            ]
          },
          "metadata": {}
        },
        {
          "output_type": "display_data",
          "data": {
            "text/html": [
              "\n",
              "<pre>Traceback (most recent call last):\n",
              "  File &quot;/usr/local/lib/python3.10/dist-packages/pyviz_comms/__init__.py&quot;, line 346, in _handle_msg\n",
              "    self._on_msg(msg)\n",
              "  File &quot;/usr/local/lib/python3.10/dist-packages/panel/viewable.py&quot;, line 297, in _on_msg\n",
              "    patch.apply_to_document(doc, comm.id if comm else None)\n",
              "  File &quot;/usr/local/lib/python3.10/dist-packages/bokeh/protocol/messages/patch_doc.py&quot;, line 115, in apply_to_document\n",
              "    invoke_with_curdoc(doc, lambda: doc.apply_json_patch(self.content, setter))\n",
              "  File &quot;/usr/local/lib/python3.10/dist-packages/bokeh/document/callbacks.py&quot;, line 408, in invoke_with_curdoc\n",
              "    return f()\n",
              "  File &quot;/usr/local/lib/python3.10/dist-packages/bokeh/protocol/messages/patch_doc.py&quot;, line 115, in &lt;lambda&gt;\n",
              "    invoke_with_curdoc(doc, lambda: doc.apply_json_patch(self.content, setter))\n",
              "  File &quot;/usr/local/lib/python3.10/dist-packages/bokeh/document/document.py&quot;, line 391, in apply_json_patch\n",
              "    DocumentPatchedEvent.handle_json(self, event_json, references, setter)\n",
              "  File &quot;/usr/local/lib/python3.10/dist-packages/bokeh/document/events.py&quot;, line 259, in handle_json\n",
              "    handler(doc, event_json, references, setter)\n",
              "  File &quot;/usr/local/lib/python3.10/dist-packages/bokeh/document/events.py&quot;, line 300, in _handle_json\n",
              "    cb(event_json[&quot;msg_data&quot;])\n",
              "  File &quot;/usr/local/lib/python3.10/dist-packages/bokeh/document/callbacks.py&quot;, line 355, in trigger_json_event\n",
              "    model._trigger_event(event)\n",
              "  File &quot;/usr/local/lib/python3.10/dist-packages/bokeh/util/callback_manager.py&quot;, line 119, in _trigger_event\n",
              "    self.document.callbacks.notify_event(cast(Model, self), event, invoke)\n",
              "  File &quot;/usr/local/lib/python3.10/dist-packages/bokeh/document/callbacks.py&quot;, line 247, in notify_event\n",
              "    invoke_with_curdoc(doc, callback_invoker)\n",
              "  File &quot;/usr/local/lib/python3.10/dist-packages/bokeh/document/callbacks.py&quot;, line 408, in invoke_with_curdoc\n",
              "    return f()\n",
              "  File &quot;/usr/local/lib/python3.10/dist-packages/bokeh/util/callback_manager.py&quot;, line 115, in invoke\n",
              "    cast(EventCallbackWithEvent, callback)(event)\n",
              "  File &quot;/usr/local/lib/python3.10/dist-packages/panel/reactive.py&quot;, line 413, in _comm_event\n",
              "    state._handle_exception(e)\n",
              "  File &quot;/usr/local/lib/python3.10/dist-packages/panel/io/state.py&quot;, line 408, in _handle_exception\n",
              "    raise exception\n",
              "  File &quot;/usr/local/lib/python3.10/dist-packages/panel/reactive.py&quot;, line 411, in _comm_event\n",
              "    self._process_bokeh_event(doc, event)\n",
              "  File &quot;/usr/local/lib/python3.10/dist-packages/panel/reactive.py&quot;, line 348, in _process_bokeh_event\n",
              "    self._process_event(event)\n",
              "  File &quot;/usr/local/lib/python3.10/dist-packages/panel/widgets/button.py&quot;, line 183, in _process_event\n",
              "    self.param.trigger(&#x27;value&#x27;)\n",
              "  File &quot;/usr/local/lib/python3.10/dist-packages/param/parameterized.py&quot;, line 1993, in trigger\n",
              "    self_.set_param(**dict(params, **triggers))\n",
              "  File &quot;/usr/local/lib/python3.10/dist-packages/param/parameterized.py&quot;, line 1929, in set_param\n",
              "    return self_.update(kwargs)\n",
              "  File &quot;/usr/local/lib/python3.10/dist-packages/param/parameterized.py&quot;, line 1902, in update\n",
              "    self_._batch_call_watchers()\n",
              "  File &quot;/usr/local/lib/python3.10/dist-packages/param/parameterized.py&quot;, line 2063, in _batch_call_watchers\n",
              "    self_._execute_watcher(watcher, events)\n",
              "  File &quot;/usr/local/lib/python3.10/dist-packages/param/parameterized.py&quot;, line 2025, in _execute_watcher\n",
              "    watcher.fn(*args, **kwargs)\n",
              "  File &quot;/usr/local/lib/python3.10/dist-packages/panel/param.py&quot;, line 838, in _replace_pane\n",
              "    new_object = self.eval(self.object)\n",
              "  File &quot;/usr/local/lib/python3.10/dist-packages/panel/param.py&quot;, line 818, in eval\n",
              "    return function(*args, **kwargs)\n",
              "  File &quot;/usr/local/lib/python3.10/dist-packages/param/parameterized.py&quot;, line 407, in _depends\n",
              "    return func(*args, **kw)\n",
              "  File &quot;/usr/local/lib/python3.10/dist-packages/panel/depends.py&quot;, line 209, in wrapped\n",
              "    return function(*combined_args, **combined_kwargs)\n",
              "  File &quot;&lt;ipython-input-48-b4f53b7475c5&gt;&quot;, line 5, in collect_messages\n",
              "    response = get_completion_from_messages(context)\n",
              "  File &quot;&lt;ipython-input-40-6e2e2a359290&gt;&quot;, line 11, in get_completion_from_messages\n",
              "    response = openai.ChatCompletion.create(\n",
              "  File &quot;/usr/local/lib/python3.10/dist-packages/openai/api_resources/chat_completion.py&quot;, line 25, in create\n",
              "    return super().create(*args, **kwargs)\n",
              "  File &quot;/usr/local/lib/python3.10/dist-packages/openai/api_resources/abstract/engine_api_resource.py&quot;, line 153, in create\n",
              "    response, _, api_key = requestor.request(\n",
              "  File &quot;/usr/local/lib/python3.10/dist-packages/openai/api_requestor.py&quot;, line 230, in request\n",
              "    resp, got_stream = self._interpret_response(result, stream)\n",
              "  File &quot;/usr/local/lib/python3.10/dist-packages/openai/api_requestor.py&quot;, line 624, in _interpret_response\n",
              "    self._interpret_response_line(\n",
              "  File &quot;/usr/local/lib/python3.10/dist-packages/openai/api_requestor.py&quot;, line 687, in _interpret_response_line\n",
              "    raise self.handle_error_response(\n",
              "openai.error.RateLimitError: That model is currently overloaded with other requests. You can retry your request, or contact us through our help center at help.openai.com if the error persists. (Please include the request ID cf7987fbc0d9d62e2f7e6f40909424b6 in your message.)\n",
              "</pre>\n"
            ]
          },
          "metadata": {}
        },
        {
          "output_type": "execute_result",
          "data": {
            "text/html": [
              "<div id='1002'>\n",
              "  <div class=\"bk-root\" id=\"a24459b7-ac1d-4ea6-a571-5b731905f886\" data-root-id=\"1002\"></div>\n",
              "</div>\n",
              "<script type=\"application/javascript\">(function(root) {\n",
              "  function embed_document(root) {\n",
              "    var docs_json = {\"8f2badd8-25d2-4905-b2f5-371ebdc8a33b\":{\"defs\":[{\"extends\":null,\"module\":null,\"name\":\"ReactiveHTML1\",\"overrides\":[],\"properties\":[]},{\"extends\":null,\"module\":null,\"name\":\"FlexBox1\",\"overrides\":[],\"properties\":[{\"default\":\"flex-start\",\"kind\":null,\"name\":\"align_content\"},{\"default\":\"flex-start\",\"kind\":null,\"name\":\"align_items\"},{\"default\":\"row\",\"kind\":null,\"name\":\"flex_direction\"},{\"default\":\"wrap\",\"kind\":null,\"name\":\"flex_wrap\"},{\"default\":\"flex-start\",\"kind\":null,\"name\":\"justify_content\"}]},{\"extends\":null,\"module\":null,\"name\":\"GridStack1\",\"overrides\":[],\"properties\":[{\"default\":\"warn\",\"kind\":null,\"name\":\"mode\"},{\"default\":null,\"kind\":null,\"name\":\"ncols\"},{\"default\":null,\"kind\":null,\"name\":\"nrows\"},{\"default\":true,\"kind\":null,\"name\":\"allow_resize\"},{\"default\":true,\"kind\":null,\"name\":\"allow_drag\"},{\"default\":[],\"kind\":null,\"name\":\"state\"}]},{\"extends\":null,\"module\":null,\"name\":\"click1\",\"overrides\":[],\"properties\":[{\"default\":\"\",\"kind\":null,\"name\":\"terminal_output\"},{\"default\":\"\",\"kind\":null,\"name\":\"debug_name\"},{\"default\":0,\"kind\":null,\"name\":\"clears\"}]},{\"extends\":null,\"module\":null,\"name\":\"NotificationAreaBase1\",\"overrides\":[],\"properties\":[{\"default\":\"bottom-right\",\"kind\":null,\"name\":\"position\"},{\"default\":0,\"kind\":null,\"name\":\"_clear\"}]},{\"extends\":null,\"module\":null,\"name\":\"NotificationArea1\",\"overrides\":[],\"properties\":[{\"default\":[],\"kind\":null,\"name\":\"notifications\"},{\"default\":\"bottom-right\",\"kind\":null,\"name\":\"position\"},{\"default\":0,\"kind\":null,\"name\":\"_clear\"},{\"default\":[{\"background\":\"#ffc107\",\"icon\":{\"className\":\"fas fa-exclamation-triangle\",\"color\":\"white\",\"tagName\":\"i\"},\"type\":\"warning\"},{\"background\":\"#007bff\",\"icon\":{\"className\":\"fas fa-info-circle\",\"color\":\"white\",\"tagName\":\"i\"},\"type\":\"info\"}],\"kind\":null,\"name\":\"types\"}]},{\"extends\":null,\"module\":null,\"name\":\"Notification\",\"overrides\":[],\"properties\":[{\"default\":null,\"kind\":null,\"name\":\"background\"},{\"default\":3000,\"kind\":null,\"name\":\"duration\"},{\"default\":null,\"kind\":null,\"name\":\"icon\"},{\"default\":\"\",\"kind\":null,\"name\":\"message\"},{\"default\":null,\"kind\":null,\"name\":\"notification_type\"},{\"default\":false,\"kind\":null,\"name\":\"_destroyed\"}]},{\"extends\":null,\"module\":null,\"name\":\"TemplateActions1\",\"overrides\":[],\"properties\":[{\"default\":0,\"kind\":null,\"name\":\"open_modal\"},{\"default\":0,\"kind\":null,\"name\":\"close_modal\"}]},{\"extends\":null,\"module\":null,\"name\":\"MaterialTemplateActions1\",\"overrides\":[],\"properties\":[{\"default\":0,\"kind\":null,\"name\":\"open_modal\"},{\"default\":0,\"kind\":null,\"name\":\"close_modal\"}]}],\"roots\":{\"references\":[{\"attributes\":{\"icon\":null,\"js_event_callbacks\":{\"button_click\":[{\"id\":\"1014\"}]},\"label\":\"Chat!\",\"margin\":[5,10,5,10],\"subscribed_events\":[\"button_click\"]},\"id\":\"1005\",\"type\":\"Button\"},{\"attributes\":{\"children\":[{\"id\":\"1007\"}],\"height\":300,\"margin\":[0,0,0,0],\"min_height\":300,\"name\":\"Row00108\"},\"id\":\"1006\",\"type\":\"Row\"},{\"attributes\":{\"children\":[{\"id\":\"1009\"},{\"id\":\"1010\"}],\"margin\":[0,0,0,0],\"name\":\"Row00114\"},\"id\":\"1008\",\"type\":\"Row\"},{\"attributes\":{\"css_classes\":[\"markdown\"],\"margin\":[5,5,5,5],\"name\":\"Markdown00117\",\"text\":\"&lt;p&gt;Assistant:&lt;/p&gt;\"},\"id\":\"1012\",\"type\":\"panel.models.markup.HTML\"},{\"attributes\":{\"css_classes\":[\"markdown\"],\"margin\":[5,5,5,5],\"name\":\"Markdown00115\",\"style\":{\"background-color\":\"#F6F6F6\"},\"text\":\"&lt;p&gt;Hello! Welcome to our pizza restaurant. What can I get for you today?&lt;/p&gt;\",\"width\":600},\"id\":\"1013\",\"type\":\"panel.models.markup.HTML\"},{\"attributes\":{\"children\":[{\"id\":\"1012\"},{\"id\":\"1013\"}],\"margin\":[0,0,0,0],\"name\":\"Row00119\"},\"id\":\"1011\",\"type\":\"Row\"},{\"attributes\":{\"css_classes\":[\"markdown\"],\"margin\":[5,5,5,5],\"name\":\"Markdown00112\",\"text\":\"&lt;p&gt;User:&lt;/p&gt;\"},\"id\":\"1009\",\"type\":\"panel.models.markup.HTML\"},{\"attributes\":{\"client_comm_id\":\"662b0a0d5df94ba0bbb069f13944b4b0\",\"comm_id\":\"8a1dbd3cfc134416aa215c5892947cf3\",\"plot_id\":\"1002\"},\"id\":\"1015\",\"type\":\"panel.models.comm_manager.CommManager\"},{\"attributes\":{\"children\":[{\"id\":\"1003\"},{\"id\":\"1004\"},{\"id\":\"1006\"}],\"margin\":[0,0,0,0],\"name\":\"Column00122\"},\"id\":\"1002\",\"type\":\"Column\"},{\"attributes\":{\"margin\":[5,10,5,10],\"max_length\":5000,\"placeholder\":\"Enter text here\\u2026\"},\"id\":\"1003\",\"type\":\"TextInput\"},{\"attributes\":{\"children\":[{\"id\":\"1005\"}],\"margin\":[0,0,0,0],\"name\":\"Row00103\"},\"id\":\"1004\",\"type\":\"Row\"},{\"attributes\":{\"args\":{\"bidirectional\":false,\"properties\":{\"event:button_click\":\"loading\"},\"source\":{\"id\":\"1005\"},\"target\":{\"id\":\"1006\"}},\"code\":\"\\n    if ('event:button_click'.startsWith('event:')) {\\n      var value = true\\n    } else {\\n      var value = source['event:button_click'];\\n      value = value;\\n    }\\n    if (typeof value !== 'boolean' || source.labels !== ['Loading']) {\\n      value = true\\n    }\\n    var css_classes = target.css_classes.slice()\\n    var loading_css = ['pn-loading', 'arc']\\n    if (value) {\\n      for (var css of loading_css) {\\n        if (!(css in css_classes)) {\\n          css_classes.push(css)\\n        }\\n      }\\n    } else {\\n     for (var css of loading_css) {\\n        var index = css_classes.indexOf(css)\\n        if (index > -1) {\\n          css_classes.splice(index, 1)\\n        }\\n      }\\n    }\\n    target['css_classes'] = css_classes\\n    \",\"tags\":[[140416700627264,[null,\"event:button_click\"],[null,\"loading\"]]]},\"id\":\"1014\",\"type\":\"CustomJS\"},{\"attributes\":{\"reload\":false},\"id\":\"1016\",\"type\":\"panel.models.location.Location\"},{\"attributes\":{\"css_classes\":[\"markdown\"],\"margin\":[5,5,5,5],\"name\":\"Markdown00110\",\"width\":600},\"id\":\"1010\",\"type\":\"panel.models.markup.HTML\"},{\"attributes\":{\"children\":[{\"id\":\"1008\"},{\"id\":\"1011\"}],\"margin\":[0,0,0,0],\"name\":\"Column00120\"},\"id\":\"1007\",\"type\":\"Column\"}],\"root_ids\":[\"1002\",\"1015\",\"1016\"]},\"title\":\"Bokeh Application\",\"version\":\"2.4.3\"}};\n",
              "    var render_items = [{\"docid\":\"8f2badd8-25d2-4905-b2f5-371ebdc8a33b\",\"root_ids\":[\"1002\"],\"roots\":{\"1002\":\"a24459b7-ac1d-4ea6-a571-5b731905f886\"}}];\n",
              "    root.Bokeh.embed.embed_items_notebook(docs_json, render_items);\n",
              "    for (const render_item of render_items) {\n",
              "      for (const root_id of render_item.root_ids) {\n",
              "\tconst id_el = document.getElementById(root_id)\n",
              "\tif (id_el.children.length && (id_el.children[0].className === 'bk-root')) {\n",
              "\t  const root_el = id_el.children[0]\n",
              "\t  root_el.id = root_el.id + '-rendered'\n",
              "\t}\n",
              "      }\n",
              "    }\n",
              "  }\n",
              "  if (root.Bokeh !== undefined && root.Bokeh.Panel !== undefined) {\n",
              "    embed_document(root);\n",
              "  } else {\n",
              "    var attempts = 0;\n",
              "    var timer = setInterval(function(root) {\n",
              "      if (root.Bokeh !== undefined && root.Bokeh.Panel !== undefined) {\n",
              "        clearInterval(timer);\n",
              "        embed_document(root);\n",
              "      } else if (document.readyState == \"complete\") {\n",
              "        attempts++;\n",
              "        if (attempts > 200) {\n",
              "          clearInterval(timer);\n",
              "          console.log(\"Bokeh: ERROR: Unable to run BokehJS code because BokehJS library is missing\");\n",
              "        }\n",
              "      }\n",
              "    }, 25, root)\n",
              "  }\n",
              "})(window);</script>"
            ],
            "application/vnd.holoviews_exec.v0+json": "",
            "text/plain": [
              "Column\n",
              "    [0] TextInput(placeholder='Enter text here…')\n",
              "    [1] Row\n",
              "        [0] Button(name='Chat!')\n",
              "    [2] ParamFunction(function, _pane=Column, height=300, loading_indicator=True)"
            ]
          },
          "metadata": {
            "application/vnd.holoviews_exec.v0+json": {
              "id": "1002"
            }
          },
          "execution_count": 49
        }
      ]
    },
    {
      "cell_type": "code",
      "source": [
        "messages =  context.copy()\n",
        "messages.append(\n",
        "{'role':'system', 'content':'create a json summary of the previous food order. Itemize the price for each item\\\n",
        " The fields should be 1) pizza, include size 2) list of toppings 3) list of drinks, include size   4) list of sides include size  5)total price '},    \n",
        ")\n",
        " #The fields should be 1) pizza, price 2) list of toppings 3) list of drinks, include size include price  4) list of sides include size include price, 5)total price '},    \n",
        "\n",
        "response = get_completion_from_messages(messages, temperature=0)\n",
        "print(response)"
      ],
      "metadata": {
        "colab": {
          "base_uri": "https://localhost:8080/"
        },
        "id": "O875MU_0BCwK",
        "outputId": "4b964e76-9043-4a4a-b2f0-13eee9052894"
      },
      "execution_count": 50,
      "outputs": [
        {
          "output_type": "stream",
          "name": "stdout",
          "text": [
            "Sure, here's a JSON summary of your order:\n",
            "\n",
            "```\n",
            "{\n",
            "  \"pizza\": {\n",
            "    \"type\": \"pepperoni\",\n",
            "    \"size\": \"large\",\n",
            "    \"price\": 12.95\n",
            "  },\n",
            "  \"toppings\": [\n",
            "    {\n",
            "      \"type\": \"extra cheese\",\n",
            "      \"price\": 2.00\n",
            "    },\n",
            "    {\n",
            "      \"type\": \"mushrooms\",\n",
            "      \"price\": 1.50\n",
            "    }\n",
            "  ],\n",
            "  \"drinks\": [\n",
            "    {\n",
            "      \"type\": \"coke\",\n",
            "      \"size\": \"medium\",\n",
            "      \"price\": 2.00\n",
            "    }\n",
            "  ],\n",
            "  \"sides\": [\n",
            "    {\n",
            "      \"type\": \"fries\",\n",
            "      \"size\": \"small\",\n",
            "      \"price\": 3.50\n",
            "    }\n",
            "  ],\n",
            "  \"total_price\": 21.95\n",
            "}\n",
            "``` \n",
            "\n",
            "Please note that I assumed the size of the pizza and drinks based on the prices you provided. If you'd like to change any of the items or sizes, just let me know!\n"
          ]
        }
      ]
    }
  ]
}